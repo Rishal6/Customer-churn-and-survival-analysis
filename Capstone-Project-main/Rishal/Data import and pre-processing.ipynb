{
 "cells": [
  {
   "cell_type": "code",
   "execution_count": 17,
   "id": "bbda0b64",
   "metadata": {},
   "outputs": [],
   "source": [
    "import pandas as pd\n",
    "import numpy as np\n",
    "import matplotlib.pyplot as plt\n",
    "import seaborn as sns\n",
    "import datetime as dt\n",
    "import math"
   ]
  },
  {
   "cell_type": "code",
   "execution_count": 18,
   "id": "9419e023",
   "metadata": {},
   "outputs": [
    {
     "data": {
      "text/html": [
       "<div>\n",
       "<style scoped>\n",
       "    .dataframe tbody tr th:only-of-type {\n",
       "        vertical-align: middle;\n",
       "    }\n",
       "\n",
       "    .dataframe tbody tr th {\n",
       "        vertical-align: top;\n",
       "    }\n",
       "\n",
       "    .dataframe thead th {\n",
       "        text-align: right;\n",
       "    }\n",
       "</style>\n",
       "<table border=\"1\" class=\"dataframe\">\n",
       "  <thead>\n",
       "    <tr style=\"text-align: right;\">\n",
       "      <th></th>\n",
       "      <th>custid</th>\n",
       "      <th>retained</th>\n",
       "      <th>created</th>\n",
       "      <th>firstorder</th>\n",
       "      <th>lastorder</th>\n",
       "      <th>esent</th>\n",
       "      <th>eopenrate</th>\n",
       "      <th>eclickrate</th>\n",
       "      <th>avgorder</th>\n",
       "      <th>ordfreq</th>\n",
       "      <th>paperless</th>\n",
       "      <th>refill</th>\n",
       "      <th>doorstep</th>\n",
       "      <th>favday</th>\n",
       "      <th>city</th>\n",
       "    </tr>\n",
       "  </thead>\n",
       "  <tbody>\n",
       "    <tr>\n",
       "      <th>0</th>\n",
       "      <td>6H6T6N</td>\n",
       "      <td>0</td>\n",
       "      <td>28-09-2012</td>\n",
       "      <td>11-08-2013</td>\n",
       "      <td>11-08-2013</td>\n",
       "      <td>29</td>\n",
       "      <td>100.000000</td>\n",
       "      <td>3.448276</td>\n",
       "      <td>14.52</td>\n",
       "      <td>0.000000</td>\n",
       "      <td>0</td>\n",
       "      <td>0</td>\n",
       "      <td>0</td>\n",
       "      <td>Monday</td>\n",
       "      <td>DEL</td>\n",
       "    </tr>\n",
       "    <tr>\n",
       "      <th>1</th>\n",
       "      <td>APCENR</td>\n",
       "      <td>1</td>\n",
       "      <td>19-12-2010</td>\n",
       "      <td>01-04-2011</td>\n",
       "      <td>19-01-2014</td>\n",
       "      <td>95</td>\n",
       "      <td>92.631579</td>\n",
       "      <td>10.526316</td>\n",
       "      <td>83.69</td>\n",
       "      <td>0.181641</td>\n",
       "      <td>1</td>\n",
       "      <td>1</td>\n",
       "      <td>1</td>\n",
       "      <td>Friday</td>\n",
       "      <td>DEL</td>\n",
       "    </tr>\n",
       "    <tr>\n",
       "      <th>2</th>\n",
       "      <td>7UP6MS</td>\n",
       "      <td>0</td>\n",
       "      <td>03-10-2010</td>\n",
       "      <td>01-12-2010</td>\n",
       "      <td>06-07-2011</td>\n",
       "      <td>0</td>\n",
       "      <td>0.000000</td>\n",
       "      <td>0.000000</td>\n",
       "      <td>33.58</td>\n",
       "      <td>0.059908</td>\n",
       "      <td>0</td>\n",
       "      <td>0</td>\n",
       "      <td>0</td>\n",
       "      <td>Wednesday</td>\n",
       "      <td>DEL</td>\n",
       "    </tr>\n",
       "    <tr>\n",
       "      <th>3</th>\n",
       "      <td>7ZEW8G</td>\n",
       "      <td>0</td>\n",
       "      <td>22-10-2010</td>\n",
       "      <td>28-03-2011</td>\n",
       "      <td>28-03-2011</td>\n",
       "      <td>0</td>\n",
       "      <td>0.000000</td>\n",
       "      <td>0.000000</td>\n",
       "      <td>54.96</td>\n",
       "      <td>0.000000</td>\n",
       "      <td>0</td>\n",
       "      <td>0</td>\n",
       "      <td>0</td>\n",
       "      <td>Thursday</td>\n",
       "      <td>BOM</td>\n",
       "    </tr>\n",
       "    <tr>\n",
       "      <th>4</th>\n",
       "      <td>8V726M</td>\n",
       "      <td>1</td>\n",
       "      <td>27-11-2010</td>\n",
       "      <td>29-11-2010</td>\n",
       "      <td>28-01-2013</td>\n",
       "      <td>30</td>\n",
       "      <td>90.000000</td>\n",
       "      <td>13.333333</td>\n",
       "      <td>111.91</td>\n",
       "      <td>0.008850</td>\n",
       "      <td>0</td>\n",
       "      <td>0</td>\n",
       "      <td>0</td>\n",
       "      <td>Monday</td>\n",
       "      <td>BOM</td>\n",
       "    </tr>\n",
       "  </tbody>\n",
       "</table>\n",
       "</div>"
      ],
      "text/plain": [
       "   custid  retained     created  firstorder   lastorder  esent   eopenrate  \\\n",
       "0  6H6T6N         0  28-09-2012  11-08-2013  11-08-2013     29  100.000000   \n",
       "1  APCENR         1  19-12-2010  01-04-2011  19-01-2014     95   92.631579   \n",
       "2  7UP6MS         0  03-10-2010  01-12-2010  06-07-2011      0    0.000000   \n",
       "3  7ZEW8G         0  22-10-2010  28-03-2011  28-03-2011      0    0.000000   \n",
       "4  8V726M         1  27-11-2010  29-11-2010  28-01-2013     30   90.000000   \n",
       "\n",
       "   eclickrate  avgorder   ordfreq  paperless  refill  doorstep     favday city  \n",
       "0    3.448276     14.52  0.000000          0       0         0     Monday  DEL  \n",
       "1   10.526316     83.69  0.181641          1       1         1     Friday  DEL  \n",
       "2    0.000000     33.58  0.059908          0       0         0  Wednesday  DEL  \n",
       "3    0.000000     54.96  0.000000          0       0         0   Thursday  BOM  \n",
       "4   13.333333    111.91  0.008850          0       0         0     Monday  BOM  "
      ]
     },
     "execution_count": 18,
     "metadata": {},
     "output_type": "execute_result"
    }
   ],
   "source": [
    "df = pd.read_csv(r'E:\\Capstone-Project-main\\Capstone-Project-main\\storedata_total.csv')\n",
    "df.head()"
   ]
  },
  {
   "cell_type": "code",
   "execution_count": 19,
   "id": "d25a06f8",
   "metadata": {},
   "outputs": [
    {
     "data": {
      "text/plain": [
       "(30801, 15)"
      ]
     },
     "execution_count": 19,
     "metadata": {},
     "output_type": "execute_result"
    }
   ],
   "source": [
    "df.shape\n"
   ]
  },
  {
   "cell_type": "code",
   "execution_count": 20,
   "id": "d62000dd",
   "metadata": {},
   "outputs": [
    {
     "data": {
      "text/plain": [
       "custid         object\n",
       "retained        int64\n",
       "created        object\n",
       "firstorder     object\n",
       "lastorder      object\n",
       "esent           int64\n",
       "eopenrate     float64\n",
       "eclickrate    float64\n",
       "avgorder      float64\n",
       "ordfreq       float64\n",
       "paperless       int64\n",
       "refill          int64\n",
       "doorstep        int64\n",
       "favday         object\n",
       "city           object\n",
       "dtype: object"
      ]
     },
     "execution_count": 20,
     "metadata": {},
     "output_type": "execute_result"
    }
   ],
   "source": [
    "df.dtypes"
   ]
  },
  {
   "cell_type": "code",
   "execution_count": 21,
   "id": "25dfb1a8",
   "metadata": {},
   "outputs": [
    {
     "name": "stdout",
     "output_type": "stream",
     "text": [
      "<class 'pandas.core.frame.DataFrame'>\n",
      "RangeIndex: 30801 entries, 0 to 30800\n",
      "Data columns (total 15 columns):\n",
      " #   Column      Non-Null Count  Dtype  \n",
      "---  ------      --------------  -----  \n",
      " 0   custid      30781 non-null  object \n",
      " 1   retained    30801 non-null  int64  \n",
      " 2   created     30781 non-null  object \n",
      " 3   firstorder  30781 non-null  object \n",
      " 4   lastorder   30781 non-null  object \n",
      " 5   esent       30801 non-null  int64  \n",
      " 6   eopenrate   30801 non-null  float64\n",
      " 7   eclickrate  30801 non-null  float64\n",
      " 8   avgorder    30801 non-null  float64\n",
      " 9   ordfreq     30801 non-null  float64\n",
      " 10  paperless   30801 non-null  int64  \n",
      " 11  refill      30801 non-null  int64  \n",
      " 12  doorstep    30801 non-null  int64  \n",
      " 13  favday      30801 non-null  object \n",
      " 14  city        30801 non-null  object \n",
      "dtypes: float64(4), int64(5), object(6)\n",
      "memory usage: 3.5+ MB\n"
     ]
    }
   ],
   "source": [
    "df.info()"
   ]
  },
  {
   "cell_type": "code",
   "execution_count": 22,
   "id": "257e204d",
   "metadata": {},
   "outputs": [
    {
     "data": {
      "text/html": [
       "<div>\n",
       "<style scoped>\n",
       "    .dataframe tbody tr th:only-of-type {\n",
       "        vertical-align: middle;\n",
       "    }\n",
       "\n",
       "    .dataframe tbody tr th {\n",
       "        vertical-align: top;\n",
       "    }\n",
       "\n",
       "    .dataframe thead th {\n",
       "        text-align: right;\n",
       "    }\n",
       "</style>\n",
       "<table border=\"1\" class=\"dataframe\">\n",
       "  <thead>\n",
       "    <tr style=\"text-align: right;\">\n",
       "      <th></th>\n",
       "      <th>count</th>\n",
       "      <th>mean</th>\n",
       "      <th>std</th>\n",
       "      <th>min</th>\n",
       "      <th>25%</th>\n",
       "      <th>50%</th>\n",
       "      <th>75%</th>\n",
       "      <th>max</th>\n",
       "    </tr>\n",
       "  </thead>\n",
       "  <tbody>\n",
       "    <tr>\n",
       "      <th>retained</th>\n",
       "      <td>30801.0</td>\n",
       "      <td>0.794520</td>\n",
       "      <td>0.404059</td>\n",
       "      <td>0.0</td>\n",
       "      <td>1.000000</td>\n",
       "      <td>1.000000</td>\n",
       "      <td>1.000000</td>\n",
       "      <td>1.00</td>\n",
       "    </tr>\n",
       "    <tr>\n",
       "      <th>esent</th>\n",
       "      <td>30801.0</td>\n",
       "      <td>28.138405</td>\n",
       "      <td>16.751380</td>\n",
       "      <td>0.0</td>\n",
       "      <td>16.000000</td>\n",
       "      <td>32.000000</td>\n",
       "      <td>42.000000</td>\n",
       "      <td>291.00</td>\n",
       "    </tr>\n",
       "    <tr>\n",
       "      <th>eopenrate</th>\n",
       "      <td>30801.0</td>\n",
       "      <td>25.554838</td>\n",
       "      <td>29.557106</td>\n",
       "      <td>0.0</td>\n",
       "      <td>2.040816</td>\n",
       "      <td>13.207547</td>\n",
       "      <td>40.000000</td>\n",
       "      <td>100.00</td>\n",
       "    </tr>\n",
       "    <tr>\n",
       "      <th>eclickrate</th>\n",
       "      <td>30801.0</td>\n",
       "      <td>5.671139</td>\n",
       "      <td>10.561704</td>\n",
       "      <td>0.0</td>\n",
       "      <td>0.000000</td>\n",
       "      <td>0.000000</td>\n",
       "      <td>7.142857</td>\n",
       "      <td>100.00</td>\n",
       "    </tr>\n",
       "    <tr>\n",
       "      <th>avgorder</th>\n",
       "      <td>30801.0</td>\n",
       "      <td>61.873944</td>\n",
       "      <td>41.007588</td>\n",
       "      <td>0.0</td>\n",
       "      <td>40.020000</td>\n",
       "      <td>50.970000</td>\n",
       "      <td>74.280000</td>\n",
       "      <td>2600.14</td>\n",
       "    </tr>\n",
       "    <tr>\n",
       "      <th>ordfreq</th>\n",
       "      <td>30801.0</td>\n",
       "      <td>0.037729</td>\n",
       "      <td>0.103932</td>\n",
       "      <td>0.0</td>\n",
       "      <td>0.000000</td>\n",
       "      <td>0.000000</td>\n",
       "      <td>0.040816</td>\n",
       "      <td>3.25</td>\n",
       "    </tr>\n",
       "    <tr>\n",
       "      <th>paperless</th>\n",
       "      <td>30801.0</td>\n",
       "      <td>0.649037</td>\n",
       "      <td>0.477279</td>\n",
       "      <td>0.0</td>\n",
       "      <td>0.000000</td>\n",
       "      <td>1.000000</td>\n",
       "      <td>1.000000</td>\n",
       "      <td>1.00</td>\n",
       "    </tr>\n",
       "    <tr>\n",
       "      <th>refill</th>\n",
       "      <td>30801.0</td>\n",
       "      <td>0.095094</td>\n",
       "      <td>0.293350</td>\n",
       "      <td>0.0</td>\n",
       "      <td>0.000000</td>\n",
       "      <td>0.000000</td>\n",
       "      <td>0.000000</td>\n",
       "      <td>1.00</td>\n",
       "    </tr>\n",
       "    <tr>\n",
       "      <th>doorstep</th>\n",
       "      <td>30801.0</td>\n",
       "      <td>0.038895</td>\n",
       "      <td>0.193347</td>\n",
       "      <td>0.0</td>\n",
       "      <td>0.000000</td>\n",
       "      <td>0.000000</td>\n",
       "      <td>0.000000</td>\n",
       "      <td>1.00</td>\n",
       "    </tr>\n",
       "  </tbody>\n",
       "</table>\n",
       "</div>"
      ],
      "text/plain": [
       "              count       mean        std  min        25%        50%  \\\n",
       "retained    30801.0   0.794520   0.404059  0.0   1.000000   1.000000   \n",
       "esent       30801.0  28.138405  16.751380  0.0  16.000000  32.000000   \n",
       "eopenrate   30801.0  25.554838  29.557106  0.0   2.040816  13.207547   \n",
       "eclickrate  30801.0   5.671139  10.561704  0.0   0.000000   0.000000   \n",
       "avgorder    30801.0  61.873944  41.007588  0.0  40.020000  50.970000   \n",
       "ordfreq     30801.0   0.037729   0.103932  0.0   0.000000   0.000000   \n",
       "paperless   30801.0   0.649037   0.477279  0.0   0.000000   1.000000   \n",
       "refill      30801.0   0.095094   0.293350  0.0   0.000000   0.000000   \n",
       "doorstep    30801.0   0.038895   0.193347  0.0   0.000000   0.000000   \n",
       "\n",
       "                  75%      max  \n",
       "retained     1.000000     1.00  \n",
       "esent       42.000000   291.00  \n",
       "eopenrate   40.000000   100.00  \n",
       "eclickrate   7.142857   100.00  \n",
       "avgorder    74.280000  2600.14  \n",
       "ordfreq      0.040816     3.25  \n",
       "paperless    1.000000     1.00  \n",
       "refill       0.000000     1.00  \n",
       "doorstep     0.000000     1.00  "
      ]
     },
     "execution_count": 22,
     "metadata": {},
     "output_type": "execute_result"
    }
   ],
   "source": [
    "df.describe(include=np.number).T"
   ]
  },
  {
   "cell_type": "code",
   "execution_count": 23,
   "id": "3c123595",
   "metadata": {},
   "outputs": [
    {
     "data": {
      "text/html": [
       "<div>\n",
       "<style scoped>\n",
       "    .dataframe tbody tr th:only-of-type {\n",
       "        vertical-align: middle;\n",
       "    }\n",
       "\n",
       "    .dataframe tbody tr th {\n",
       "        vertical-align: top;\n",
       "    }\n",
       "\n",
       "    .dataframe thead th {\n",
       "        text-align: right;\n",
       "    }\n",
       "</style>\n",
       "<table border=\"1\" class=\"dataframe\">\n",
       "  <thead>\n",
       "    <tr style=\"text-align: right;\">\n",
       "      <th></th>\n",
       "      <th>count</th>\n",
       "      <th>unique</th>\n",
       "      <th>top</th>\n",
       "      <th>freq</th>\n",
       "    </tr>\n",
       "  </thead>\n",
       "  <tbody>\n",
       "    <tr>\n",
       "      <th>custid</th>\n",
       "      <td>30781</td>\n",
       "      <td>30769</td>\n",
       "      <td>EQTCV3</td>\n",
       "      <td>2</td>\n",
       "    </tr>\n",
       "    <tr>\n",
       "      <th>created</th>\n",
       "      <td>30781</td>\n",
       "      <td>2821</td>\n",
       "      <td>28-08-2012</td>\n",
       "      <td>928</td>\n",
       "    </tr>\n",
       "    <tr>\n",
       "      <th>firstorder</th>\n",
       "      <td>30781</td>\n",
       "      <td>2672</td>\n",
       "      <td>17-09-2013</td>\n",
       "      <td>197</td>\n",
       "    </tr>\n",
       "    <tr>\n",
       "      <th>lastorder</th>\n",
       "      <td>30781</td>\n",
       "      <td>2414</td>\n",
       "      <td>13-01-2014</td>\n",
       "      <td>339</td>\n",
       "    </tr>\n",
       "    <tr>\n",
       "      <th>favday</th>\n",
       "      <td>30801</td>\n",
       "      <td>7</td>\n",
       "      <td>Monday</td>\n",
       "      <td>6762</td>\n",
       "    </tr>\n",
       "    <tr>\n",
       "      <th>city</th>\n",
       "      <td>30801</td>\n",
       "      <td>4</td>\n",
       "      <td>BOM</td>\n",
       "      <td>11566</td>\n",
       "    </tr>\n",
       "  </tbody>\n",
       "</table>\n",
       "</div>"
      ],
      "text/plain": [
       "            count unique         top   freq\n",
       "custid      30781  30769      EQTCV3      2\n",
       "created     30781   2821  28-08-2012    928\n",
       "firstorder  30781   2672  17-09-2013    197\n",
       "lastorder   30781   2414  13-01-2014    339\n",
       "favday      30801      7      Monday   6762\n",
       "city        30801      4         BOM  11566"
      ]
     },
     "execution_count": 23,
     "metadata": {},
     "output_type": "execute_result"
    }
   ],
   "source": [
    "df.describe(include='O').T"
   ]
  },
  {
   "cell_type": "code",
   "execution_count": 24,
   "id": "8649430e",
   "metadata": {},
   "outputs": [
    {
     "data": {
      "text/html": [
       "<div>\n",
       "<style scoped>\n",
       "    .dataframe tbody tr th:only-of-type {\n",
       "        vertical-align: middle;\n",
       "    }\n",
       "\n",
       "    .dataframe tbody tr th {\n",
       "        vertical-align: top;\n",
       "    }\n",
       "\n",
       "    .dataframe thead th {\n",
       "        text-align: right;\n",
       "    }\n",
       "</style>\n",
       "<table border=\"1\" class=\"dataframe\">\n",
       "  <thead>\n",
       "    <tr style=\"text-align: right;\">\n",
       "      <th></th>\n",
       "      <th>count</th>\n",
       "      <th>unique</th>\n",
       "      <th>top</th>\n",
       "      <th>freq</th>\n",
       "      <th>mean</th>\n",
       "      <th>std</th>\n",
       "      <th>min</th>\n",
       "      <th>25%</th>\n",
       "      <th>50%</th>\n",
       "      <th>75%</th>\n",
       "      <th>max</th>\n",
       "    </tr>\n",
       "  </thead>\n",
       "  <tbody>\n",
       "    <tr>\n",
       "      <th>custid</th>\n",
       "      <td>30781</td>\n",
       "      <td>30769</td>\n",
       "      <td>EQTCV3</td>\n",
       "      <td>2</td>\n",
       "      <td>NaN</td>\n",
       "      <td>NaN</td>\n",
       "      <td>NaN</td>\n",
       "      <td>NaN</td>\n",
       "      <td>NaN</td>\n",
       "      <td>NaN</td>\n",
       "      <td>NaN</td>\n",
       "    </tr>\n",
       "    <tr>\n",
       "      <th>retained</th>\n",
       "      <td>30801.0</td>\n",
       "      <td>NaN</td>\n",
       "      <td>NaN</td>\n",
       "      <td>NaN</td>\n",
       "      <td>0.79452</td>\n",
       "      <td>0.404059</td>\n",
       "      <td>0.0</td>\n",
       "      <td>1.0</td>\n",
       "      <td>1.0</td>\n",
       "      <td>1.0</td>\n",
       "      <td>1.0</td>\n",
       "    </tr>\n",
       "    <tr>\n",
       "      <th>created</th>\n",
       "      <td>30781</td>\n",
       "      <td>2821</td>\n",
       "      <td>28-08-2012</td>\n",
       "      <td>928</td>\n",
       "      <td>NaN</td>\n",
       "      <td>NaN</td>\n",
       "      <td>NaN</td>\n",
       "      <td>NaN</td>\n",
       "      <td>NaN</td>\n",
       "      <td>NaN</td>\n",
       "      <td>NaN</td>\n",
       "    </tr>\n",
       "    <tr>\n",
       "      <th>firstorder</th>\n",
       "      <td>30781</td>\n",
       "      <td>2672</td>\n",
       "      <td>17-09-2013</td>\n",
       "      <td>197</td>\n",
       "      <td>NaN</td>\n",
       "      <td>NaN</td>\n",
       "      <td>NaN</td>\n",
       "      <td>NaN</td>\n",
       "      <td>NaN</td>\n",
       "      <td>NaN</td>\n",
       "      <td>NaN</td>\n",
       "    </tr>\n",
       "    <tr>\n",
       "      <th>lastorder</th>\n",
       "      <td>30781</td>\n",
       "      <td>2414</td>\n",
       "      <td>13-01-2014</td>\n",
       "      <td>339</td>\n",
       "      <td>NaN</td>\n",
       "      <td>NaN</td>\n",
       "      <td>NaN</td>\n",
       "      <td>NaN</td>\n",
       "      <td>NaN</td>\n",
       "      <td>NaN</td>\n",
       "      <td>NaN</td>\n",
       "    </tr>\n",
       "    <tr>\n",
       "      <th>esent</th>\n",
       "      <td>30801.0</td>\n",
       "      <td>NaN</td>\n",
       "      <td>NaN</td>\n",
       "      <td>NaN</td>\n",
       "      <td>28.138405</td>\n",
       "      <td>16.75138</td>\n",
       "      <td>0.0</td>\n",
       "      <td>16.0</td>\n",
       "      <td>32.0</td>\n",
       "      <td>42.0</td>\n",
       "      <td>291.0</td>\n",
       "    </tr>\n",
       "    <tr>\n",
       "      <th>eopenrate</th>\n",
       "      <td>30801.0</td>\n",
       "      <td>NaN</td>\n",
       "      <td>NaN</td>\n",
       "      <td>NaN</td>\n",
       "      <td>25.554838</td>\n",
       "      <td>29.557106</td>\n",
       "      <td>0.0</td>\n",
       "      <td>2.040816</td>\n",
       "      <td>13.207547</td>\n",
       "      <td>40.0</td>\n",
       "      <td>100.0</td>\n",
       "    </tr>\n",
       "    <tr>\n",
       "      <th>eclickrate</th>\n",
       "      <td>30801.0</td>\n",
       "      <td>NaN</td>\n",
       "      <td>NaN</td>\n",
       "      <td>NaN</td>\n",
       "      <td>5.671139</td>\n",
       "      <td>10.561704</td>\n",
       "      <td>0.0</td>\n",
       "      <td>0.0</td>\n",
       "      <td>0.0</td>\n",
       "      <td>7.142857</td>\n",
       "      <td>100.0</td>\n",
       "    </tr>\n",
       "    <tr>\n",
       "      <th>avgorder</th>\n",
       "      <td>30801.0</td>\n",
       "      <td>NaN</td>\n",
       "      <td>NaN</td>\n",
       "      <td>NaN</td>\n",
       "      <td>61.873944</td>\n",
       "      <td>41.007588</td>\n",
       "      <td>0.0</td>\n",
       "      <td>40.02</td>\n",
       "      <td>50.97</td>\n",
       "      <td>74.28</td>\n",
       "      <td>2600.14</td>\n",
       "    </tr>\n",
       "    <tr>\n",
       "      <th>ordfreq</th>\n",
       "      <td>30801.0</td>\n",
       "      <td>NaN</td>\n",
       "      <td>NaN</td>\n",
       "      <td>NaN</td>\n",
       "      <td>0.037729</td>\n",
       "      <td>0.103932</td>\n",
       "      <td>0.0</td>\n",
       "      <td>0.0</td>\n",
       "      <td>0.0</td>\n",
       "      <td>0.040816</td>\n",
       "      <td>3.25</td>\n",
       "    </tr>\n",
       "    <tr>\n",
       "      <th>paperless</th>\n",
       "      <td>30801.0</td>\n",
       "      <td>NaN</td>\n",
       "      <td>NaN</td>\n",
       "      <td>NaN</td>\n",
       "      <td>0.649037</td>\n",
       "      <td>0.477279</td>\n",
       "      <td>0.0</td>\n",
       "      <td>0.0</td>\n",
       "      <td>1.0</td>\n",
       "      <td>1.0</td>\n",
       "      <td>1.0</td>\n",
       "    </tr>\n",
       "    <tr>\n",
       "      <th>refill</th>\n",
       "      <td>30801.0</td>\n",
       "      <td>NaN</td>\n",
       "      <td>NaN</td>\n",
       "      <td>NaN</td>\n",
       "      <td>0.095094</td>\n",
       "      <td>0.29335</td>\n",
       "      <td>0.0</td>\n",
       "      <td>0.0</td>\n",
       "      <td>0.0</td>\n",
       "      <td>0.0</td>\n",
       "      <td>1.0</td>\n",
       "    </tr>\n",
       "    <tr>\n",
       "      <th>doorstep</th>\n",
       "      <td>30801.0</td>\n",
       "      <td>NaN</td>\n",
       "      <td>NaN</td>\n",
       "      <td>NaN</td>\n",
       "      <td>0.038895</td>\n",
       "      <td>0.193347</td>\n",
       "      <td>0.0</td>\n",
       "      <td>0.0</td>\n",
       "      <td>0.0</td>\n",
       "      <td>0.0</td>\n",
       "      <td>1.0</td>\n",
       "    </tr>\n",
       "    <tr>\n",
       "      <th>favday</th>\n",
       "      <td>30801</td>\n",
       "      <td>7</td>\n",
       "      <td>Monday</td>\n",
       "      <td>6762</td>\n",
       "      <td>NaN</td>\n",
       "      <td>NaN</td>\n",
       "      <td>NaN</td>\n",
       "      <td>NaN</td>\n",
       "      <td>NaN</td>\n",
       "      <td>NaN</td>\n",
       "      <td>NaN</td>\n",
       "    </tr>\n",
       "    <tr>\n",
       "      <th>city</th>\n",
       "      <td>30801</td>\n",
       "      <td>4</td>\n",
       "      <td>BOM</td>\n",
       "      <td>11566</td>\n",
       "      <td>NaN</td>\n",
       "      <td>NaN</td>\n",
       "      <td>NaN</td>\n",
       "      <td>NaN</td>\n",
       "      <td>NaN</td>\n",
       "      <td>NaN</td>\n",
       "      <td>NaN</td>\n",
       "    </tr>\n",
       "  </tbody>\n",
       "</table>\n",
       "</div>"
      ],
      "text/plain": [
       "              count unique         top   freq       mean        std  min  \\\n",
       "custid        30781  30769      EQTCV3      2        NaN        NaN  NaN   \n",
       "retained    30801.0    NaN         NaN    NaN    0.79452   0.404059  0.0   \n",
       "created       30781   2821  28-08-2012    928        NaN        NaN  NaN   \n",
       "firstorder    30781   2672  17-09-2013    197        NaN        NaN  NaN   \n",
       "lastorder     30781   2414  13-01-2014    339        NaN        NaN  NaN   \n",
       "esent       30801.0    NaN         NaN    NaN  28.138405   16.75138  0.0   \n",
       "eopenrate   30801.0    NaN         NaN    NaN  25.554838  29.557106  0.0   \n",
       "eclickrate  30801.0    NaN         NaN    NaN   5.671139  10.561704  0.0   \n",
       "avgorder    30801.0    NaN         NaN    NaN  61.873944  41.007588  0.0   \n",
       "ordfreq     30801.0    NaN         NaN    NaN   0.037729   0.103932  0.0   \n",
       "paperless   30801.0    NaN         NaN    NaN   0.649037   0.477279  0.0   \n",
       "refill      30801.0    NaN         NaN    NaN   0.095094    0.29335  0.0   \n",
       "doorstep    30801.0    NaN         NaN    NaN   0.038895   0.193347  0.0   \n",
       "favday        30801      7      Monday   6762        NaN        NaN  NaN   \n",
       "city          30801      4         BOM  11566        NaN        NaN  NaN   \n",
       "\n",
       "                 25%        50%       75%      max  \n",
       "custid           NaN        NaN       NaN      NaN  \n",
       "retained         1.0        1.0       1.0      1.0  \n",
       "created          NaN        NaN       NaN      NaN  \n",
       "firstorder       NaN        NaN       NaN      NaN  \n",
       "lastorder        NaN        NaN       NaN      NaN  \n",
       "esent           16.0       32.0      42.0    291.0  \n",
       "eopenrate   2.040816  13.207547      40.0    100.0  \n",
       "eclickrate       0.0        0.0  7.142857    100.0  \n",
       "avgorder       40.02      50.97     74.28  2600.14  \n",
       "ordfreq          0.0        0.0  0.040816     3.25  \n",
       "paperless        0.0        1.0       1.0      1.0  \n",
       "refill           0.0        0.0       0.0      1.0  \n",
       "doorstep         0.0        0.0       0.0      1.0  \n",
       "favday           NaN        NaN       NaN      NaN  \n",
       "city             NaN        NaN       NaN      NaN  "
      ]
     },
     "execution_count": 24,
     "metadata": {},
     "output_type": "execute_result"
    }
   ],
   "source": [
    "df.describe(include='all').T"
   ]
  },
  {
   "cell_type": "markdown",
   "id": "d4f4c869",
   "metadata": {},
   "source": [
    "### Missing value imputation"
   ]
  },
  {
   "cell_type": "code",
   "execution_count": 25,
   "id": "8821aca6",
   "metadata": {},
   "outputs": [
    {
     "data": {
      "text/plain": [
       "custid        20\n",
       "retained       0\n",
       "created       20\n",
       "firstorder    20\n",
       "lastorder     20\n",
       "esent          0\n",
       "eopenrate      0\n",
       "eclickrate     0\n",
       "avgorder       0\n",
       "ordfreq        0\n",
       "paperless      0\n",
       "refill         0\n",
       "doorstep       0\n",
       "favday         0\n",
       "city           0\n",
       "dtype: int64"
      ]
     },
     "execution_count": 25,
     "metadata": {},
     "output_type": "execute_result"
    }
   ],
   "source": [
    "df.isnull().sum()"
   ]
  },
  {
   "cell_type": "code",
   "execution_count": 26,
   "id": "492357c4",
   "metadata": {},
   "outputs": [
    {
     "data": {
      "text/plain": [
       "custid        0.06\n",
       "retained      0.00\n",
       "created       0.06\n",
       "firstorder    0.06\n",
       "lastorder     0.06\n",
       "esent         0.00\n",
       "eopenrate     0.00\n",
       "eclickrate    0.00\n",
       "avgorder      0.00\n",
       "ordfreq       0.00\n",
       "paperless     0.00\n",
       "refill        0.00\n",
       "doorstep      0.00\n",
       "favday        0.00\n",
       "city          0.00\n",
       "dtype: float64"
      ]
     },
     "execution_count": 26,
     "metadata": {},
     "output_type": "execute_result"
    }
   ],
   "source": [
    "round(df.isnull().sum()/len(df)*100 ,2)"
   ]
  },
  {
   "cell_type": "code",
   "execution_count": 27,
   "id": "a7ec4f07",
   "metadata": {},
   "outputs": [
    {
     "data": {
      "text/plain": [
       "(30781, 15)"
      ]
     },
     "execution_count": 27,
     "metadata": {},
     "output_type": "execute_result"
    }
   ],
   "source": [
    "df1 = df.copy()\n",
    "df1.dropna(inplace=True)\n",
    "df1.shape"
   ]
  },
  {
   "cell_type": "code",
   "execution_count": 28,
   "id": "6b35d7ad",
   "metadata": {},
   "outputs": [],
   "source": [
    "df1.reset_index(drop=True,inplace=True)"
   ]
  },
  {
   "cell_type": "code",
   "execution_count": 29,
   "id": "3c6e42c6",
   "metadata": {},
   "outputs": [
    {
     "data": {
      "text/plain": [
       "(30781, 15)"
      ]
     },
     "execution_count": 29,
     "metadata": {},
     "output_type": "execute_result"
    }
   ],
   "source": [
    "df1.shape"
   ]
  },
  {
   "cell_type": "markdown",
   "id": "37011c51",
   "metadata": {},
   "source": [
    "## Handling non strandred and data type conversions"
   ]
  },
  {
   "cell_type": "code",
   "execution_count": 30,
   "id": "9f0e1c22",
   "metadata": {},
   "outputs": [
    {
     "data": {
      "text/plain": [
       "custid         object\n",
       "retained        int64\n",
       "created        object\n",
       "firstorder     object\n",
       "lastorder      object\n",
       "esent           int64\n",
       "eopenrate     float64\n",
       "eclickrate    float64\n",
       "avgorder      float64\n",
       "ordfreq       float64\n",
       "paperless       int64\n",
       "refill          int64\n",
       "doorstep        int64\n",
       "favday         object\n",
       "city           object\n",
       "dtype: object"
      ]
     },
     "execution_count": 30,
     "metadata": {},
     "output_type": "execute_result"
    }
   ],
   "source": [
    "df1.dtypes"
   ]
  },
  {
   "cell_type": "markdown",
   "id": "ab961d34",
   "metadata": {},
   "source": [
    "#### we can see first ordered and last order are date had to be changed "
   ]
  },
  {
   "cell_type": "markdown",
   "id": "0ff7c159",
   "metadata": {},
   "source": [
    "#### Also, there are some date values which are out of range like 1/0/00 in the columns firstorder and lastorder. \n",
    "    All these non-standard data are dropped"
   ]
  },
  {
   "cell_type": "code",
   "execution_count": 36,
   "id": "44fb7d12",
   "metadata": {},
   "outputs": [
    {
     "data": {
      "text/plain": [
       "dtype('O')"
      ]
     },
     "execution_count": 36,
     "metadata": {},
     "output_type": "execute_result"
    }
   ],
   "source": [
    "df2['firstorder'].dtype"
   ]
  },
  {
   "cell_type": "code",
   "execution_count": 34,
   "id": "938ba852",
   "metadata": {},
   "outputs": [
    {
     "data": {
      "text/plain": [
       "dtype('O')"
      ]
     },
     "execution_count": 34,
     "metadata": {},
     "output_type": "execute_result"
    }
   ],
   "source": [
    "df2['lastorder'].dtype"
   ]
  },
  {
   "cell_type": "code",
   "execution_count": 35,
   "id": "2607ba8d",
   "metadata": {},
   "outputs": [
    {
     "data": {
      "text/plain": [
       "array(['11-08-2013', '01-04-2011', '01-12-2010', ..., '28-12-2017',\n",
       "       '25-12-2017', '26-12-2017'], dtype=object)"
      ]
     },
     "execution_count": 35,
     "metadata": {},
     "output_type": "execute_result"
    }
   ],
   "source": [
    "df2['firstorder'].unique()"
   ]
  },
  {
   "cell_type": "code",
   "execution_count": 32,
   "id": "7f8cc8f6",
   "metadata": {},
   "outputs": [],
   "source": [
    "non_ms_values = df1[(df1['firstorder']=='1/0/00') | (df1['lastorder']=='1/0/00')].index\n",
    "df2 = df1.drop(non_ms_values)\n",
    "df2.reset_index(drop=True,inplace=True)\n",
    "# shape of our dataset after dropping the non-standard data"
   ]
  },
  {
   "cell_type": "code",
   "execution_count": 33,
   "id": "941abd6c",
   "metadata": {},
   "outputs": [
    {
     "data": {
      "text/plain": [
       "(30758, 15)"
      ]
     },
     "execution_count": 33,
     "metadata": {},
     "output_type": "execute_result"
    }
   ],
   "source": [
    "df2.shape"
   ]
  },
  {
   "cell_type": "markdown",
   "id": "6faf1bf1",
   "metadata": {},
   "source": [
    "### Converting datatype of the columns 'created', 'firstorder' and 'lastorder' to datetime format¶"
   ]
  },
  {
   "cell_type": "code",
   "execution_count": 37,
   "id": "df08f50f",
   "metadata": {},
   "outputs": [
    {
     "data": {
      "text/plain": [
       "dtype('O')"
      ]
     },
     "execution_count": 37,
     "metadata": {},
     "output_type": "execute_result"
    }
   ],
   "source": [
    "df2['created'].dtype"
   ]
  },
  {
   "cell_type": "code",
   "execution_count": 38,
   "id": "2982c881",
   "metadata": {},
   "outputs": [],
   "source": [
    "df2['created'] = df2['created'].apply(lambda x:pd.to_datetime(str(x)))"
   ]
  },
  {
   "cell_type": "code",
   "execution_count": 39,
   "id": "e464bd5f",
   "metadata": {},
   "outputs": [],
   "source": [
    "df2['lastorder']=df2['lastorder'].apply(lambda x:pd.to_datetime((str(x))))"
   ]
  },
  {
   "cell_type": "code",
   "execution_count": 40,
   "id": "55e0ff0d",
   "metadata": {},
   "outputs": [],
   "source": [
    "df2['firstorder']=df2['firstorder'].apply(lambda x:pd.to_datetime((str(x))))"
   ]
  },
  {
   "cell_type": "code",
   "execution_count": 41,
   "id": "64d6c8d9",
   "metadata": {},
   "outputs": [
    {
     "data": {
      "text/plain": [
       "custid                object\n",
       "retained               int64\n",
       "created       datetime64[ns]\n",
       "firstorder    datetime64[ns]\n",
       "lastorder     datetime64[ns]\n",
       "esent                  int64\n",
       "eopenrate            float64\n",
       "eclickrate           float64\n",
       "avgorder             float64\n",
       "ordfreq              float64\n",
       "paperless              int64\n",
       "refill                 int64\n",
       "doorstep               int64\n",
       "favday                object\n",
       "city                  object\n",
       "dtype: object"
      ]
     },
     "execution_count": 41,
     "metadata": {},
     "output_type": "execute_result"
    }
   ],
   "source": [
    "df2.dtypes"
   ]
  },
  {
   "cell_type": "code",
   "execution_count": 43,
   "id": "3fa92eb6",
   "metadata": {},
   "outputs": [],
   "source": [
    "lst_order=list(df2['lastorder'].dt.year.unique())\n",
    "fst_order=list(df2['firstorder'].dt.year.unique())"
   ]
  },
  {
   "cell_type": "markdown",
   "id": "b8ca8fc3",
   "metadata": {},
   "source": [
    "### The range of years is supposed to be 2008 to 2018. But we have dates which are of year 1904. So we'll drop the rows which has dates in year 1904"
   ]
  },
  {
   "cell_type": "code",
   "execution_count": 44,
   "id": "127f2d9e",
   "metadata": {},
   "outputs": [
    {
     "name": "stdout",
     "output_type": "stream",
     "text": [
      "(30747, 15)\n"
     ]
    }
   ],
   "source": [
    "drop_index = df2[(df2['firstorder'].dt.year==1904) | (df2['lastorder'].dt.year==1904)].index\n",
    "df2.drop(drop_index,axis=0,inplace=True)\n",
    "df2.reset_index(drop=True,inplace=True)\n",
    "print(df2.shape)"
   ]
  },
  {
   "cell_type": "code",
   "execution_count": 45,
   "id": "7904a464",
   "metadata": {},
   "outputs": [
    {
     "data": {
      "text/plain": [
       "VHRL89    2\n",
       "XW9FJZ    2\n",
       "3TXFZX    2\n",
       "ZA6HL8    2\n",
       "N2JL9X    2\n",
       "EQTCV3    2\n",
       "Name: custid, dtype: int64"
      ]
     },
     "execution_count": 45,
     "metadata": {},
     "output_type": "execute_result"
    }
   ],
   "source": [
    "# duplicate values in custid\n",
    "df2['custid'].value_counts()[df2['custid'].value_counts()>1]"
   ]
  },
  {
   "cell_type": "markdown",
   "id": "095aebbf",
   "metadata": {},
   "source": [
    "### There are some duplicated values in the column custid. 6 of these customerids are repeated twice in the data. We can drop all these 12 rows due to inconsistent values¶"
   ]
  },
  {
   "cell_type": "code",
   "execution_count": 46,
   "id": "60afdec5",
   "metadata": {},
   "outputs": [
    {
     "data": {
      "text/html": [
       "<div>\n",
       "<style scoped>\n",
       "    .dataframe tbody tr th:only-of-type {\n",
       "        vertical-align: middle;\n",
       "    }\n",
       "\n",
       "    .dataframe tbody tr th {\n",
       "        vertical-align: top;\n",
       "    }\n",
       "\n",
       "    .dataframe thead th {\n",
       "        text-align: right;\n",
       "    }\n",
       "</style>\n",
       "<table border=\"1\" class=\"dataframe\">\n",
       "  <thead>\n",
       "    <tr style=\"text-align: right;\">\n",
       "      <th></th>\n",
       "      <th>custid</th>\n",
       "      <th>retained</th>\n",
       "      <th>created</th>\n",
       "      <th>firstorder</th>\n",
       "      <th>lastorder</th>\n",
       "      <th>esent</th>\n",
       "      <th>eopenrate</th>\n",
       "      <th>eclickrate</th>\n",
       "      <th>avgorder</th>\n",
       "      <th>ordfreq</th>\n",
       "      <th>paperless</th>\n",
       "      <th>refill</th>\n",
       "      <th>doorstep</th>\n",
       "      <th>favday</th>\n",
       "      <th>city</th>\n",
       "    </tr>\n",
       "  </thead>\n",
       "  <tbody>\n",
       "    <tr>\n",
       "      <th>5432</th>\n",
       "      <td>N2JL9X</td>\n",
       "      <td>0</td>\n",
       "      <td>2011-09-21</td>\n",
       "      <td>2011-08-12</td>\n",
       "      <td>2014-02-01</td>\n",
       "      <td>5</td>\n",
       "      <td>0.000000</td>\n",
       "      <td>0.000000</td>\n",
       "      <td>19.45</td>\n",
       "      <td>0.043651</td>\n",
       "      <td>1</td>\n",
       "      <td>0</td>\n",
       "      <td>0</td>\n",
       "      <td>Friday</td>\n",
       "      <td>BOM</td>\n",
       "    </tr>\n",
       "    <tr>\n",
       "      <th>7302</th>\n",
       "      <td>N2JL9X</td>\n",
       "      <td>0</td>\n",
       "      <td>2011-09-21</td>\n",
       "      <td>2011-08-12</td>\n",
       "      <td>2014-02-01</td>\n",
       "      <td>1</td>\n",
       "      <td>100.000000</td>\n",
       "      <td>100.000000</td>\n",
       "      <td>19.45</td>\n",
       "      <td>0.043651</td>\n",
       "      <td>1</td>\n",
       "      <td>0</td>\n",
       "      <td>0</td>\n",
       "      <td>Friday</td>\n",
       "      <td>BOM</td>\n",
       "    </tr>\n",
       "    <tr>\n",
       "      <th>13726</th>\n",
       "      <td>ZA6HL8</td>\n",
       "      <td>1</td>\n",
       "      <td>2013-09-26</td>\n",
       "      <td>2013-09-26</td>\n",
       "      <td>2013-09-26</td>\n",
       "      <td>32</td>\n",
       "      <td>18.750000</td>\n",
       "      <td>3.125000</td>\n",
       "      <td>40.02</td>\n",
       "      <td>0.000000</td>\n",
       "      <td>1</td>\n",
       "      <td>0</td>\n",
       "      <td>0</td>\n",
       "      <td>Monday</td>\n",
       "      <td>BOM</td>\n",
       "    </tr>\n",
       "    <tr>\n",
       "      <th>15600</th>\n",
       "      <td>ZA6HL8</td>\n",
       "      <td>0</td>\n",
       "      <td>2013-09-26</td>\n",
       "      <td>2013-09-26</td>\n",
       "      <td>2013-09-26</td>\n",
       "      <td>13</td>\n",
       "      <td>46.153846</td>\n",
       "      <td>0.000000</td>\n",
       "      <td>40.02</td>\n",
       "      <td>0.000000</td>\n",
       "      <td>1</td>\n",
       "      <td>1</td>\n",
       "      <td>0</td>\n",
       "      <td>Monday</td>\n",
       "      <td>BOM</td>\n",
       "    </tr>\n",
       "    <tr>\n",
       "      <th>17179</th>\n",
       "      <td>VHRL89</td>\n",
       "      <td>1</td>\n",
       "      <td>2013-08-10</td>\n",
       "      <td>2013-10-31</td>\n",
       "      <td>2013-10-31</td>\n",
       "      <td>39</td>\n",
       "      <td>17.948718</td>\n",
       "      <td>7.692308</td>\n",
       "      <td>41.49</td>\n",
       "      <td>0.000000</td>\n",
       "      <td>1</td>\n",
       "      <td>1</td>\n",
       "      <td>1</td>\n",
       "      <td>Saturday</td>\n",
       "      <td>MAA</td>\n",
       "    </tr>\n",
       "    <tr>\n",
       "      <th>17235</th>\n",
       "      <td>XW9FJZ</td>\n",
       "      <td>1</td>\n",
       "      <td>2013-09-10</td>\n",
       "      <td>2013-09-10</td>\n",
       "      <td>2013-11-11</td>\n",
       "      <td>14</td>\n",
       "      <td>14.285714</td>\n",
       "      <td>0.000000</td>\n",
       "      <td>80.72</td>\n",
       "      <td>0.151515</td>\n",
       "      <td>1</td>\n",
       "      <td>0</td>\n",
       "      <td>0</td>\n",
       "      <td>Tuesday</td>\n",
       "      <td>BLR</td>\n",
       "    </tr>\n",
       "    <tr>\n",
       "      <th>20592</th>\n",
       "      <td>VHRL89</td>\n",
       "      <td>0</td>\n",
       "      <td>2013-08-10</td>\n",
       "      <td>2013-10-31</td>\n",
       "      <td>2013-10-31</td>\n",
       "      <td>18</td>\n",
       "      <td>0.000000</td>\n",
       "      <td>0.000000</td>\n",
       "      <td>41.49</td>\n",
       "      <td>0.000000</td>\n",
       "      <td>1</td>\n",
       "      <td>0</td>\n",
       "      <td>0</td>\n",
       "      <td>Tuesday</td>\n",
       "      <td>MAA</td>\n",
       "    </tr>\n",
       "    <tr>\n",
       "      <th>21702</th>\n",
       "      <td>XW9FJZ</td>\n",
       "      <td>1</td>\n",
       "      <td>2013-09-10</td>\n",
       "      <td>2013-09-10</td>\n",
       "      <td>2013-11-11</td>\n",
       "      <td>18</td>\n",
       "      <td>11.111111</td>\n",
       "      <td>0.000000</td>\n",
       "      <td>108.84</td>\n",
       "      <td>0.129032</td>\n",
       "      <td>1</td>\n",
       "      <td>0</td>\n",
       "      <td>0</td>\n",
       "      <td>Tuesday</td>\n",
       "      <td>BLR</td>\n",
       "    </tr>\n",
       "    <tr>\n",
       "      <th>22517</th>\n",
       "      <td>3TXFZX</td>\n",
       "      <td>1</td>\n",
       "      <td>2013-12-12</td>\n",
       "      <td>2013-12-12</td>\n",
       "      <td>2013-12-12</td>\n",
       "      <td>16</td>\n",
       "      <td>25.000000</td>\n",
       "      <td>0.000000</td>\n",
       "      <td>29.00</td>\n",
       "      <td>0.000000</td>\n",
       "      <td>1</td>\n",
       "      <td>0</td>\n",
       "      <td>0</td>\n",
       "      <td>Saturday</td>\n",
       "      <td>BLR</td>\n",
       "    </tr>\n",
       "    <tr>\n",
       "      <th>22741</th>\n",
       "      <td>EQTCV3</td>\n",
       "      <td>1</td>\n",
       "      <td>2013-10-22</td>\n",
       "      <td>2013-12-14</td>\n",
       "      <td>2013-12-14</td>\n",
       "      <td>25</td>\n",
       "      <td>12.000000</td>\n",
       "      <td>8.000000</td>\n",
       "      <td>40.02</td>\n",
       "      <td>0.000000</td>\n",
       "      <td>1</td>\n",
       "      <td>1</td>\n",
       "      <td>0</td>\n",
       "      <td>Friday</td>\n",
       "      <td>BOM</td>\n",
       "    </tr>\n",
       "    <tr>\n",
       "      <th>23266</th>\n",
       "      <td>EQTCV3</td>\n",
       "      <td>1</td>\n",
       "      <td>2013-10-22</td>\n",
       "      <td>2013-12-14</td>\n",
       "      <td>2013-12-14</td>\n",
       "      <td>14</td>\n",
       "      <td>28.571429</td>\n",
       "      <td>0.000000</td>\n",
       "      <td>40.02</td>\n",
       "      <td>0.000000</td>\n",
       "      <td>1</td>\n",
       "      <td>1</td>\n",
       "      <td>0</td>\n",
       "      <td>Friday</td>\n",
       "      <td>BOM</td>\n",
       "    </tr>\n",
       "    <tr>\n",
       "      <th>30222</th>\n",
       "      <td>3TXFZX</td>\n",
       "      <td>1</td>\n",
       "      <td>2017-12-13</td>\n",
       "      <td>2017-12-13</td>\n",
       "      <td>2017-12-13</td>\n",
       "      <td>22</td>\n",
       "      <td>50.000000</td>\n",
       "      <td>13.636364</td>\n",
       "      <td>29.00</td>\n",
       "      <td>0.000000</td>\n",
       "      <td>1</td>\n",
       "      <td>0</td>\n",
       "      <td>0</td>\n",
       "      <td>Saturday</td>\n",
       "      <td>BLR</td>\n",
       "    </tr>\n",
       "  </tbody>\n",
       "</table>\n",
       "</div>"
      ],
      "text/plain": [
       "       custid  retained    created firstorder  lastorder  esent   eopenrate  \\\n",
       "5432   N2JL9X         0 2011-09-21 2011-08-12 2014-02-01      5    0.000000   \n",
       "7302   N2JL9X         0 2011-09-21 2011-08-12 2014-02-01      1  100.000000   \n",
       "13726  ZA6HL8         1 2013-09-26 2013-09-26 2013-09-26     32   18.750000   \n",
       "15600  ZA6HL8         0 2013-09-26 2013-09-26 2013-09-26     13   46.153846   \n",
       "17179  VHRL89         1 2013-08-10 2013-10-31 2013-10-31     39   17.948718   \n",
       "17235  XW9FJZ         1 2013-09-10 2013-09-10 2013-11-11     14   14.285714   \n",
       "20592  VHRL89         0 2013-08-10 2013-10-31 2013-10-31     18    0.000000   \n",
       "21702  XW9FJZ         1 2013-09-10 2013-09-10 2013-11-11     18   11.111111   \n",
       "22517  3TXFZX         1 2013-12-12 2013-12-12 2013-12-12     16   25.000000   \n",
       "22741  EQTCV3         1 2013-10-22 2013-12-14 2013-12-14     25   12.000000   \n",
       "23266  EQTCV3         1 2013-10-22 2013-12-14 2013-12-14     14   28.571429   \n",
       "30222  3TXFZX         1 2017-12-13 2017-12-13 2017-12-13     22   50.000000   \n",
       "\n",
       "       eclickrate  avgorder   ordfreq  paperless  refill  doorstep    favday  \\\n",
       "5432     0.000000     19.45  0.043651          1       0         0    Friday   \n",
       "7302   100.000000     19.45  0.043651          1       0         0    Friday   \n",
       "13726    3.125000     40.02  0.000000          1       0         0    Monday   \n",
       "15600    0.000000     40.02  0.000000          1       1         0    Monday   \n",
       "17179    7.692308     41.49  0.000000          1       1         1  Saturday   \n",
       "17235    0.000000     80.72  0.151515          1       0         0   Tuesday   \n",
       "20592    0.000000     41.49  0.000000          1       0         0   Tuesday   \n",
       "21702    0.000000    108.84  0.129032          1       0         0   Tuesday   \n",
       "22517    0.000000     29.00  0.000000          1       0         0  Saturday   \n",
       "22741    8.000000     40.02  0.000000          1       1         0    Friday   \n",
       "23266    0.000000     40.02  0.000000          1       1         0    Friday   \n",
       "30222   13.636364     29.00  0.000000          1       0         0  Saturday   \n",
       "\n",
       "      city  \n",
       "5432   BOM  \n",
       "7302   BOM  \n",
       "13726  BOM  \n",
       "15600  BOM  \n",
       "17179  MAA  \n",
       "17235  BLR  \n",
       "20592  MAA  \n",
       "21702  BLR  \n",
       "22517  BLR  \n",
       "22741  BOM  \n",
       "23266  BOM  \n",
       "30222  BLR  "
      ]
     },
     "execution_count": 46,
     "metadata": {},
     "output_type": "execute_result"
    }
   ],
   "source": [
    "df2[df2['custid'].duplicated(keep=False)==True]"
   ]
  },
  {
   "cell_type": "code",
   "execution_count": 47,
   "id": "bd74184c",
   "metadata": {},
   "outputs": [],
   "source": [
    "dup_index=df2[df2['custid'].duplicated(keep=False)==True].index"
   ]
  },
  {
   "cell_type": "code",
   "execution_count": 48,
   "id": "a7d77aa7",
   "metadata": {},
   "outputs": [],
   "source": [
    "df3 = df2.drop(dup_index)"
   ]
  },
  {
   "cell_type": "code",
   "execution_count": 49,
   "id": "0def6313",
   "metadata": {},
   "outputs": [],
   "source": [
    "df3.reset_index(inplace=True,drop=True)"
   ]
  },
  {
   "cell_type": "code",
   "execution_count": 50,
   "id": "67736892",
   "metadata": {},
   "outputs": [
    {
     "data": {
      "text/plain": [
       "(30735, 15)"
      ]
     },
     "execution_count": 50,
     "metadata": {},
     "output_type": "execute_result"
    }
   ],
   "source": [
    "df3.shape"
   ]
  },
  {
   "cell_type": "markdown",
   "id": "c989c247",
   "metadata": {},
   "source": [
    "## Data Vectorization"
   ]
  },
  {
   "cell_type": "code",
   "execution_count": 51,
   "id": "708d50f2",
   "metadata": {},
   "outputs": [
    {
     "name": "stdout",
     "output_type": "stream",
     "text": [
      "custid : 30735\n",
      "retained : 2\n",
      "created : 2821\n",
      "firstorder : 2669\n",
      "lastorder : 2412\n",
      "esent : 90\n",
      "eopenrate : 977\n",
      "eclickrate : 503\n",
      "avgorder : 9927\n",
      "ordfreq : 3836\n",
      "paperless : 2\n",
      "refill : 2\n",
      "doorstep : 2\n",
      "favday : 7\n",
      "city : 4\n"
     ]
    }
   ],
   "source": [
    "# checking number of unique values in each columns\n",
    "for col in df3.columns:\n",
    "    print(col,':',df3[col].nunique())"
   ]
  },
  {
   "cell_type": "markdown",
   "id": "071fc33a",
   "metadata": {},
   "source": [
    "### From above analysis on number of unique values, we can say that\n",
    "### custid column has 30741 unique values which is equal to that of no.of rows in our dataset. So we can drop this column, since it doesnot add any information to our dataset\n",
    "#### The columns which has only less unique values can be considered as categorical columns i.e. columns 'retained','paperless','refill','doorstep','favday' and 'city'\n",
    "#### Columns 'created, 'firstorder', 'lastorder' are of datetime format\n",
    "#### Columns 'esent', 'eopenrate', 'eclickrate', 'avgorder', 'ordfreq' are numerical columns"
   ]
  },
  {
   "cell_type": "markdown",
   "id": "6afd9742",
   "metadata": {},
   "source": [
    "### Dropping custid column since we have all unique values¶"
   ]
  },
  {
   "cell_type": "code",
   "execution_count": 52,
   "id": "35a2c24b",
   "metadata": {},
   "outputs": [],
   "source": [
    "df3.drop(['custid'],axis=1,inplace=True)"
   ]
  },
  {
   "cell_type": "code",
   "execution_count": 53,
   "id": "c5cdcc50",
   "metadata": {},
   "outputs": [
    {
     "data": {
      "text/plain": [
       "retained               int64\n",
       "created       datetime64[ns]\n",
       "firstorder    datetime64[ns]\n",
       "lastorder     datetime64[ns]\n",
       "esent                  int64\n",
       "eopenrate            float64\n",
       "eclickrate           float64\n",
       "avgorder             float64\n",
       "ordfreq              float64\n",
       "paperless              int64\n",
       "refill                 int64\n",
       "doorstep               int64\n",
       "favday                object\n",
       "city                  object\n",
       "dtype: object"
      ]
     },
     "execution_count": 53,
     "metadata": {},
     "output_type": "execute_result"
    }
   ],
   "source": [
    "df3.dtypes"
   ]
  },
  {
   "cell_type": "code",
   "execution_count": 54,
   "id": "a55eb7c0",
   "metadata": {},
   "outputs": [],
   "source": [
    "# Numerical Columns\n",
    "num_cols = ['esent', 'eopenrate', 'eclickrate', 'avgorder', 'ordfreq']"
   ]
  },
  {
   "cell_type": "code",
   "execution_count": 55,
   "id": "85b5f176",
   "metadata": {},
   "outputs": [],
   "source": [
    "# Categorical Columns\n",
    "cat_cols = ['retained','paperless','refill','doorstep','favday','city']"
   ]
  },
  {
   "cell_type": "code",
   "execution_count": 84,
   "id": "9d778e21",
   "metadata": {},
   "outputs": [
    {
     "data": {
      "text/plain": [
       "(30735, 14)"
      ]
     },
     "execution_count": 84,
     "metadata": {},
     "output_type": "execute_result"
    }
   ],
   "source": [
    "df4 = df3.copy()\n",
    "df4.shape"
   ]
  },
  {
   "cell_type": "markdown",
   "id": "6551fc8b",
   "metadata": {},
   "source": [
    "# Discrepancies and Modifications"
   ]
  },
  {
   "cell_type": "markdown",
   "id": "c8efe4d7",
   "metadata": {},
   "source": [
    "### There are some discrepancies in the date columns. Practically, Lastorder date should be greater than firstorder date and firstorder date should be greater than created date. So the rows, which doesnot follow the above mentioned rule, are dropped"
   ]
  },
  {
   "cell_type": "code",
   "execution_count": 85,
   "id": "0fdec580",
   "metadata": {},
   "outputs": [],
   "source": [
    "drop_rows=df4[(df4['firstorder']>df4['lastorder'])|(df4['created']>df4['firstorder'])]"
   ]
  },
  {
   "cell_type": "code",
   "execution_count": null,
   "id": "16b5be3f",
   "metadata": {},
   "outputs": [],
   "source": [
    "df5[df5['firstorder']>df5['lastorder']].index"
   ]
  },
  {
   "cell_type": "code",
   "execution_count": null,
   "id": "bc2948bf",
   "metadata": {},
   "outputs": [],
   "source": [
    "df5[df5['created']>df5['firstorder']].index"
   ]
  },
  {
   "cell_type": "code",
   "execution_count": 86,
   "id": "ac4f3f29",
   "metadata": {},
   "outputs": [
    {
     "data": {
      "text/plain": [
       "5370"
      ]
     },
     "execution_count": 86,
     "metadata": {},
     "output_type": "execute_result"
    }
   ],
   "source": [
    "len(drop_rows)"
   ]
  },
  {
   "cell_type": "code",
   "execution_count": null,
   "id": "8825f9eb",
   "metadata": {},
   "outputs": [],
   "source": []
  },
  {
   "cell_type": "markdown",
   "id": "c905d418",
   "metadata": {},
   "source": [
    "### the above mentioned 5370 rows must be dropped"
   ]
  },
  {
   "cell_type": "code",
   "execution_count": 87,
   "id": "ca5b88f7",
   "metadata": {},
   "outputs": [
    {
     "data": {
      "text/plain": [
       "(25365, 14)"
      ]
     },
     "execution_count": 87,
     "metadata": {},
     "output_type": "execute_result"
    }
   ],
   "source": [
    "df4.drop(drop_rows.index,inplace=True)\n",
    "df4.reset_index(drop=True,inplace=True)\n",
    "df4.shape"
   ]
  },
  {
   "cell_type": "markdown",
   "id": "8530f721",
   "metadata": {},
   "source": [
    "## Additional data"
   ]
  },
  {
   "cell_type": "markdown",
   "id": "a98e5dd3",
   "metadata": {},
   "source": [
    "### We are adding 3 more columns that supplements the dataset. The columns are derived from dataset."
   ]
  },
  {
   "cell_type": "markdown",
   "id": "e3f71e12",
   "metadata": {},
   "source": [
    "#### eopen - No.of emails opened by the customer\n",
    "#### tenure - The tenure of the customer calculated using difference between lastorder date and created date of the customer\n",
    "#### recency - No. of days since the last order was placed by the customer (Difference between max_lastorder date and customer's lastorder date)"
   ]
  },
  {
   "cell_type": "code",
   "execution_count": 88,
   "id": "1a47f5ad",
   "metadata": {},
   "outputs": [
    {
     "data": {
      "text/html": [
       "<div>\n",
       "<style scoped>\n",
       "    .dataframe tbody tr th:only-of-type {\n",
       "        vertical-align: middle;\n",
       "    }\n",
       "\n",
       "    .dataframe tbody tr th {\n",
       "        vertical-align: top;\n",
       "    }\n",
       "\n",
       "    .dataframe thead th {\n",
       "        text-align: right;\n",
       "    }\n",
       "</style>\n",
       "<table border=\"1\" class=\"dataframe\">\n",
       "  <thead>\n",
       "    <tr style=\"text-align: right;\">\n",
       "      <th></th>\n",
       "      <th>retained</th>\n",
       "      <th>created</th>\n",
       "      <th>firstorder</th>\n",
       "      <th>lastorder</th>\n",
       "      <th>esent</th>\n",
       "      <th>eopenrate</th>\n",
       "      <th>eclickrate</th>\n",
       "      <th>avgorder</th>\n",
       "      <th>ordfreq</th>\n",
       "      <th>paperless</th>\n",
       "      <th>refill</th>\n",
       "      <th>doorstep</th>\n",
       "      <th>favday</th>\n",
       "      <th>city</th>\n",
       "    </tr>\n",
       "  </thead>\n",
       "  <tbody>\n",
       "    <tr>\n",
       "      <th>0</th>\n",
       "      <td>0</td>\n",
       "      <td>2012-09-28</td>\n",
       "      <td>2013-11-08</td>\n",
       "      <td>2013-11-08</td>\n",
       "      <td>29</td>\n",
       "      <td>100.000000</td>\n",
       "      <td>3.448276</td>\n",
       "      <td>14.52</td>\n",
       "      <td>0.000000</td>\n",
       "      <td>0</td>\n",
       "      <td>0</td>\n",
       "      <td>0</td>\n",
       "      <td>Monday</td>\n",
       "      <td>DEL</td>\n",
       "    </tr>\n",
       "    <tr>\n",
       "      <th>1</th>\n",
       "      <td>1</td>\n",
       "      <td>2010-12-19</td>\n",
       "      <td>2011-01-04</td>\n",
       "      <td>2014-01-19</td>\n",
       "      <td>95</td>\n",
       "      <td>92.631579</td>\n",
       "      <td>10.526316</td>\n",
       "      <td>83.69</td>\n",
       "      <td>0.181641</td>\n",
       "      <td>1</td>\n",
       "      <td>1</td>\n",
       "      <td>1</td>\n",
       "      <td>Friday</td>\n",
       "      <td>DEL</td>\n",
       "    </tr>\n",
       "    <tr>\n",
       "      <th>2</th>\n",
       "      <td>0</td>\n",
       "      <td>2010-10-22</td>\n",
       "      <td>2011-03-28</td>\n",
       "      <td>2011-03-28</td>\n",
       "      <td>0</td>\n",
       "      <td>0.000000</td>\n",
       "      <td>0.000000</td>\n",
       "      <td>54.96</td>\n",
       "      <td>0.000000</td>\n",
       "      <td>0</td>\n",
       "      <td>0</td>\n",
       "      <td>0</td>\n",
       "      <td>Thursday</td>\n",
       "      <td>BOM</td>\n",
       "    </tr>\n",
       "    <tr>\n",
       "      <th>3</th>\n",
       "      <td>1</td>\n",
       "      <td>2010-11-27</td>\n",
       "      <td>2010-11-29</td>\n",
       "      <td>2013-01-28</td>\n",
       "      <td>30</td>\n",
       "      <td>90.000000</td>\n",
       "      <td>13.333333</td>\n",
       "      <td>111.91</td>\n",
       "      <td>0.008850</td>\n",
       "      <td>0</td>\n",
       "      <td>0</td>\n",
       "      <td>0</td>\n",
       "      <td>Monday</td>\n",
       "      <td>BOM</td>\n",
       "    </tr>\n",
       "    <tr>\n",
       "      <th>4</th>\n",
       "      <td>1</td>\n",
       "      <td>2008-11-17</td>\n",
       "      <td>2010-12-10</td>\n",
       "      <td>2014-01-14</td>\n",
       "      <td>46</td>\n",
       "      <td>80.434783</td>\n",
       "      <td>15.217391</td>\n",
       "      <td>175.10</td>\n",
       "      <td>0.141176</td>\n",
       "      <td>1</td>\n",
       "      <td>1</td>\n",
       "      <td>0</td>\n",
       "      <td>Wednesday</td>\n",
       "      <td>DEL</td>\n",
       "    </tr>\n",
       "  </tbody>\n",
       "</table>\n",
       "</div>"
      ],
      "text/plain": [
       "   retained    created firstorder  lastorder  esent   eopenrate  eclickrate  \\\n",
       "0         0 2012-09-28 2013-11-08 2013-11-08     29  100.000000    3.448276   \n",
       "1         1 2010-12-19 2011-01-04 2014-01-19     95   92.631579   10.526316   \n",
       "2         0 2010-10-22 2011-03-28 2011-03-28      0    0.000000    0.000000   \n",
       "3         1 2010-11-27 2010-11-29 2013-01-28     30   90.000000   13.333333   \n",
       "4         1 2008-11-17 2010-12-10 2014-01-14     46   80.434783   15.217391   \n",
       "\n",
       "   avgorder   ordfreq  paperless  refill  doorstep     favday city  \n",
       "0     14.52  0.000000          0       0         0     Monday  DEL  \n",
       "1     83.69  0.181641          1       1         1     Friday  DEL  \n",
       "2     54.96  0.000000          0       0         0   Thursday  BOM  \n",
       "3    111.91  0.008850          0       0         0     Monday  BOM  \n",
       "4    175.10  0.141176          1       1         0  Wednesday  DEL  "
      ]
     },
     "execution_count": 88,
     "metadata": {},
     "output_type": "execute_result"
    }
   ],
   "source": [
    "df4.head()"
   ]
  },
  {
   "cell_type": "code",
   "execution_count": 89,
   "id": "f27a8f08",
   "metadata": {},
   "outputs": [],
   "source": [
    "# eopen \n",
    "df4['eopen'] = (df4['esent'] * df4['eopenrate'])/100\n"
   ]
  },
  {
   "cell_type": "code",
   "execution_count": 90,
   "id": "c9d1a1a1",
   "metadata": {},
   "outputs": [],
   "source": [
    "df4['eopen'] = df4['eopen'].apply(lambda x: math.ceil(x))"
   ]
  },
  {
   "cell_type": "code",
   "execution_count": 91,
   "id": "cf74888f",
   "metadata": {},
   "outputs": [],
   "source": [
    "#tenure\n",
    "df4['tenure']=df4['lastorder']-df4['created']"
   ]
  },
  {
   "cell_type": "code",
   "execution_count": 92,
   "id": "06c334ff",
   "metadata": {},
   "outputs": [],
   "source": [
    "df4['tenure']=df4['tenure'].apply(lambda x : str(x).split(' ')[0])"
   ]
  },
  {
   "cell_type": "code",
   "execution_count": 93,
   "id": "0909c44a",
   "metadata": {},
   "outputs": [
    {
     "data": {
      "text/plain": [
       "0         406\n",
       "1        1127\n",
       "2         157\n",
       "3         793\n",
       "4        1884\n",
       "         ... \n",
       "25360       0\n",
       "25361       0\n",
       "25362       4\n",
       "25363       0\n",
       "25364       0\n",
       "Name: tenure, Length: 25365, dtype: object"
      ]
     },
     "execution_count": 93,
     "metadata": {},
     "output_type": "execute_result"
    }
   ],
   "source": [
    "df4['tenure']"
   ]
  },
  {
   "cell_type": "code",
   "execution_count": 94,
   "id": "1ccf38fd",
   "metadata": {},
   "outputs": [],
   "source": [
    "df4['tenure'] = df4['tenure'].astype('int64')\n",
    "df4['tenure'] = df4['tenure']/365"
   ]
  },
  {
   "cell_type": "code",
   "execution_count": 101,
   "id": "4cdf90ef",
   "metadata": {},
   "outputs": [
    {
     "data": {
      "text/plain": [
       "dtype('<M8[ns]')"
      ]
     },
     "execution_count": 101,
     "metadata": {},
     "output_type": "execute_result"
    }
   ],
   "source": [
    "df4['lastorder'].dtype"
   ]
  },
  {
   "cell_type": "code",
   "execution_count": 108,
   "id": "ec13cd83",
   "metadata": {},
   "outputs": [],
   "source": [
    "#recency\n",
    "maxorder=df4['lastorder'].max()\n",
    "df4['recency']=df4['lastorder'].apply(lambda x:maxorder-x)\n"
   ]
  },
  {
   "cell_type": "code",
   "execution_count": 110,
   "id": "a2de5677",
   "metadata": {},
   "outputs": [],
   "source": [
    "df4['recency']=df4['recency'].apply(lambda x : str(x).split(' ')[0])"
   ]
  },
  {
   "cell_type": "code",
   "execution_count": 111,
   "id": "98bcd4b3",
   "metadata": {},
   "outputs": [],
   "source": [
    "df4['recency'] = df4['recency'].astype('int64')\n",
    "df4['recency'] = df4['recency']/365"
   ]
  },
  {
   "cell_type": "code",
   "execution_count": 112,
   "id": "eb44d71a",
   "metadata": {},
   "outputs": [
    {
     "data": {
      "text/plain": [
       "Index(['retained', 'created', 'firstorder', 'lastorder', 'esent', 'eopenrate',\n",
       "       'eclickrate', 'avgorder', 'ordfreq', 'paperless', 'refill', 'doorstep',\n",
       "       'favday', 'city', 'eopen', 'tenure', 'recency'],\n",
       "      dtype='object')"
      ]
     },
     "execution_count": 112,
     "metadata": {},
     "output_type": "execute_result"
    }
   ],
   "source": [
    "df4.columns"
   ]
  },
  {
   "cell_type": "code",
   "execution_count": 113,
   "id": "e90183c3",
   "metadata": {},
   "outputs": [
    {
     "data": {
      "text/html": [
       "<div>\n",
       "<style scoped>\n",
       "    .dataframe tbody tr th:only-of-type {\n",
       "        vertical-align: middle;\n",
       "    }\n",
       "\n",
       "    .dataframe tbody tr th {\n",
       "        vertical-align: top;\n",
       "    }\n",
       "\n",
       "    .dataframe thead th {\n",
       "        text-align: right;\n",
       "    }\n",
       "</style>\n",
       "<table border=\"1\" class=\"dataframe\">\n",
       "  <thead>\n",
       "    <tr style=\"text-align: right;\">\n",
       "      <th></th>\n",
       "      <th>retained</th>\n",
       "      <th>created</th>\n",
       "      <th>firstorder</th>\n",
       "      <th>lastorder</th>\n",
       "      <th>esent</th>\n",
       "      <th>eopenrate</th>\n",
       "      <th>eclickrate</th>\n",
       "      <th>avgorder</th>\n",
       "      <th>ordfreq</th>\n",
       "      <th>paperless</th>\n",
       "      <th>refill</th>\n",
       "      <th>doorstep</th>\n",
       "      <th>favday</th>\n",
       "      <th>city</th>\n",
       "      <th>eopen</th>\n",
       "      <th>tenure</th>\n",
       "      <th>recency</th>\n",
       "    </tr>\n",
       "  </thead>\n",
       "  <tbody>\n",
       "    <tr>\n",
       "      <th>0</th>\n",
       "      <td>0</td>\n",
       "      <td>2012-09-28</td>\n",
       "      <td>2013-11-08</td>\n",
       "      <td>2013-11-08</td>\n",
       "      <td>29</td>\n",
       "      <td>100.000000</td>\n",
       "      <td>3.448276</td>\n",
       "      <td>14.52</td>\n",
       "      <td>0.000000</td>\n",
       "      <td>0</td>\n",
       "      <td>0</td>\n",
       "      <td>0</td>\n",
       "      <td>Monday</td>\n",
       "      <td>DEL</td>\n",
       "      <td>29</td>\n",
       "      <td>1.112329</td>\n",
       "      <td>5.065753</td>\n",
       "    </tr>\n",
       "    <tr>\n",
       "      <th>1</th>\n",
       "      <td>1</td>\n",
       "      <td>2010-12-19</td>\n",
       "      <td>2011-01-04</td>\n",
       "      <td>2014-01-19</td>\n",
       "      <td>95</td>\n",
       "      <td>92.631579</td>\n",
       "      <td>10.526316</td>\n",
       "      <td>83.69</td>\n",
       "      <td>0.181641</td>\n",
       "      <td>1</td>\n",
       "      <td>1</td>\n",
       "      <td>1</td>\n",
       "      <td>Friday</td>\n",
       "      <td>DEL</td>\n",
       "      <td>89</td>\n",
       "      <td>3.087671</td>\n",
       "      <td>4.868493</td>\n",
       "    </tr>\n",
       "    <tr>\n",
       "      <th>2</th>\n",
       "      <td>0</td>\n",
       "      <td>2010-10-22</td>\n",
       "      <td>2011-03-28</td>\n",
       "      <td>2011-03-28</td>\n",
       "      <td>0</td>\n",
       "      <td>0.000000</td>\n",
       "      <td>0.000000</td>\n",
       "      <td>54.96</td>\n",
       "      <td>0.000000</td>\n",
       "      <td>0</td>\n",
       "      <td>0</td>\n",
       "      <td>0</td>\n",
       "      <td>Thursday</td>\n",
       "      <td>BOM</td>\n",
       "      <td>0</td>\n",
       "      <td>0.430137</td>\n",
       "      <td>7.684932</td>\n",
       "    </tr>\n",
       "    <tr>\n",
       "      <th>3</th>\n",
       "      <td>1</td>\n",
       "      <td>2010-11-27</td>\n",
       "      <td>2010-11-29</td>\n",
       "      <td>2013-01-28</td>\n",
       "      <td>30</td>\n",
       "      <td>90.000000</td>\n",
       "      <td>13.333333</td>\n",
       "      <td>111.91</td>\n",
       "      <td>0.008850</td>\n",
       "      <td>0</td>\n",
       "      <td>0</td>\n",
       "      <td>0</td>\n",
       "      <td>Monday</td>\n",
       "      <td>BOM</td>\n",
       "      <td>27</td>\n",
       "      <td>2.172603</td>\n",
       "      <td>5.843836</td>\n",
       "    </tr>\n",
       "    <tr>\n",
       "      <th>4</th>\n",
       "      <td>1</td>\n",
       "      <td>2008-11-17</td>\n",
       "      <td>2010-12-10</td>\n",
       "      <td>2014-01-14</td>\n",
       "      <td>46</td>\n",
       "      <td>80.434783</td>\n",
       "      <td>15.217391</td>\n",
       "      <td>175.10</td>\n",
       "      <td>0.141176</td>\n",
       "      <td>1</td>\n",
       "      <td>1</td>\n",
       "      <td>0</td>\n",
       "      <td>Wednesday</td>\n",
       "      <td>DEL</td>\n",
       "      <td>38</td>\n",
       "      <td>5.161644</td>\n",
       "      <td>4.882192</td>\n",
       "    </tr>\n",
       "  </tbody>\n",
       "</table>\n",
       "</div>"
      ],
      "text/plain": [
       "   retained    created firstorder  lastorder  esent   eopenrate  eclickrate  \\\n",
       "0         0 2012-09-28 2013-11-08 2013-11-08     29  100.000000    3.448276   \n",
       "1         1 2010-12-19 2011-01-04 2014-01-19     95   92.631579   10.526316   \n",
       "2         0 2010-10-22 2011-03-28 2011-03-28      0    0.000000    0.000000   \n",
       "3         1 2010-11-27 2010-11-29 2013-01-28     30   90.000000   13.333333   \n",
       "4         1 2008-11-17 2010-12-10 2014-01-14     46   80.434783   15.217391   \n",
       "\n",
       "   avgorder   ordfreq  paperless  refill  doorstep     favday city  eopen  \\\n",
       "0     14.52  0.000000          0       0         0     Monday  DEL     29   \n",
       "1     83.69  0.181641          1       1         1     Friday  DEL     89   \n",
       "2     54.96  0.000000          0       0         0   Thursday  BOM      0   \n",
       "3    111.91  0.008850          0       0         0     Monday  BOM     27   \n",
       "4    175.10  0.141176          1       1         0  Wednesday  DEL     38   \n",
       "\n",
       "     tenure   recency  \n",
       "0  1.112329  5.065753  \n",
       "1  3.087671  4.868493  \n",
       "2  0.430137  7.684932  \n",
       "3  2.172603  5.843836  \n",
       "4  5.161644  4.882192  "
      ]
     },
     "execution_count": 113,
     "metadata": {},
     "output_type": "execute_result"
    }
   ],
   "source": [
    "df4.head()"
   ]
  },
  {
   "cell_type": "code",
   "execution_count": 114,
   "id": "a3fce37d",
   "metadata": {},
   "outputs": [
    {
     "data": {
      "text/plain": [
       "retained               int64\n",
       "created       datetime64[ns]\n",
       "firstorder    datetime64[ns]\n",
       "lastorder     datetime64[ns]\n",
       "esent                  int64\n",
       "eopenrate            float64\n",
       "eclickrate           float64\n",
       "avgorder             float64\n",
       "ordfreq              float64\n",
       "paperless              int64\n",
       "refill                 int64\n",
       "doorstep               int64\n",
       "favday                object\n",
       "city                  object\n",
       "eopen                  int64\n",
       "tenure               float64\n",
       "recency              float64\n",
       "dtype: object"
      ]
     },
     "execution_count": 114,
     "metadata": {},
     "output_type": "execute_result"
    }
   ],
   "source": [
    "df4.dtypes"
   ]
  },
  {
   "cell_type": "code",
   "execution_count": 115,
   "id": "566da12a",
   "metadata": {},
   "outputs": [],
   "source": [
    "# Exporting it to a new file\n",
    "df4.to_csv('clean_data.csv',index = None,header=True)"
   ]
  },
  {
   "cell_type": "code",
   "execution_count": null,
   "id": "72018aed",
   "metadata": {},
   "outputs": [],
   "source": []
  },
  {
   "cell_type": "code",
   "execution_count": 117,
   "id": "11fbfa41",
   "metadata": {},
   "outputs": [
    {
     "data": {
      "image/png": "[encoded data removed]",
      "text/plain": [
       "<Figure size 1080x360 with 2 Axes>"
      ]
     },
     "metadata": {
      "needs_background": "light"
     },
     "output_type": "display_data"
    }
   ],
   "source": []
  },
  {
   "cell_type": "code",
   "execution_count": null,
   "id": "9e3e29f1",
   "metadata": {},
   "outputs": [],
   "source": []
  }
 ],
 "metadata": {
  "kernelspec": {
   "display_name": "Python 3",
   "language": "python",
   "name": "python3"
  },
  "language_info": {
   "codemirror_mode": {
    "name": "ipython",
    "version": 3
   },
   "file_extension": ".py",
   "mimetype": "text/x-python",
   "name": "python",
   "nbconvert_exporter": "python",
   "pygments_lexer": "ipython3",
   "version": "3.8.8"
  }
 },
 "nbformat": 4,
 "nbformat_minor": 5
}
