{
 "cells": [
  {
   "cell_type": "code",
   "execution_count": 1,
   "id": "df204891",
   "metadata": {},
   "outputs": [],
   "source": [
    "import pandas as pd\n",
    "import numpy as np\n",
    "import matplotlib.pyplot as plt\n",
    "import seaborn as sns\n",
    "import scipy.stats as st\n",
    "import datetime as dt"
   ]
  },
  {
   "cell_type": "code",
   "execution_count": 2,
   "id": "b91925b8",
   "metadata": {},
   "outputs": [
    {
     "data": {
      "text/html": [
       "<div>\n",
       "<style scoped>\n",
       "    .dataframe tbody tr th:only-of-type {\n",
       "        vertical-align: middle;\n",
       "    }\n",
       "\n",
       "    .dataframe tbody tr th {\n",
       "        vertical-align: top;\n",
       "    }\n",
       "\n",
       "    .dataframe thead th {\n",
       "        text-align: right;\n",
       "    }\n",
       "</style>\n",
       "<table border=\"1\" class=\"dataframe\">\n",
       "  <thead>\n",
       "    <tr style=\"text-align: right;\">\n",
       "      <th></th>\n",
       "      <th>retained</th>\n",
       "      <th>created</th>\n",
       "      <th>firstorder</th>\n",
       "      <th>lastorder</th>\n",
       "      <th>esent</th>\n",
       "      <th>eopenrate</th>\n",
       "      <th>eclickrate</th>\n",
       "      <th>avgorder</th>\n",
       "      <th>ordfreq</th>\n",
       "      <th>paperless</th>\n",
       "      <th>refill</th>\n",
       "      <th>doorstep</th>\n",
       "      <th>favday</th>\n",
       "      <th>city</th>\n",
       "      <th>eopen</th>\n",
       "      <th>tenure</th>\n",
       "      <th>recency</th>\n",
       "    </tr>\n",
       "  </thead>\n",
       "  <tbody>\n",
       "    <tr>\n",
       "      <th>0</th>\n",
       "      <td>0</td>\n",
       "      <td>2012-09-28</td>\n",
       "      <td>2013-11-08</td>\n",
       "      <td>2013-11-08</td>\n",
       "      <td>29</td>\n",
       "      <td>100.000000</td>\n",
       "      <td>3.448276</td>\n",
       "      <td>14.52</td>\n",
       "      <td>0.000000</td>\n",
       "      <td>0</td>\n",
       "      <td>0</td>\n",
       "      <td>0</td>\n",
       "      <td>Monday</td>\n",
       "      <td>DEL</td>\n",
       "      <td>29</td>\n",
       "      <td>1.112329</td>\n",
       "      <td>5.065753</td>\n",
       "    </tr>\n",
       "    <tr>\n",
       "      <th>1</th>\n",
       "      <td>1</td>\n",
       "      <td>2010-12-19</td>\n",
       "      <td>2011-01-04</td>\n",
       "      <td>2014-01-19</td>\n",
       "      <td>95</td>\n",
       "      <td>92.631579</td>\n",
       "      <td>10.526316</td>\n",
       "      <td>83.69</td>\n",
       "      <td>0.181641</td>\n",
       "      <td>1</td>\n",
       "      <td>1</td>\n",
       "      <td>1</td>\n",
       "      <td>Friday</td>\n",
       "      <td>DEL</td>\n",
       "      <td>89</td>\n",
       "      <td>3.087671</td>\n",
       "      <td>4.868493</td>\n",
       "    </tr>\n",
       "    <tr>\n",
       "      <th>2</th>\n",
       "      <td>0</td>\n",
       "      <td>2010-10-22</td>\n",
       "      <td>2011-03-28</td>\n",
       "      <td>2011-03-28</td>\n",
       "      <td>0</td>\n",
       "      <td>0.000000</td>\n",
       "      <td>0.000000</td>\n",
       "      <td>54.96</td>\n",
       "      <td>0.000000</td>\n",
       "      <td>0</td>\n",
       "      <td>0</td>\n",
       "      <td>0</td>\n",
       "      <td>Thursday</td>\n",
       "      <td>BOM</td>\n",
       "      <td>0</td>\n",
       "      <td>0.430137</td>\n",
       "      <td>7.684932</td>\n",
       "    </tr>\n",
       "    <tr>\n",
       "      <th>3</th>\n",
       "      <td>1</td>\n",
       "      <td>2010-11-27</td>\n",
       "      <td>2010-11-29</td>\n",
       "      <td>2013-01-28</td>\n",
       "      <td>30</td>\n",
       "      <td>90.000000</td>\n",
       "      <td>13.333333</td>\n",
       "      <td>111.91</td>\n",
       "      <td>0.008850</td>\n",
       "      <td>0</td>\n",
       "      <td>0</td>\n",
       "      <td>0</td>\n",
       "      <td>Monday</td>\n",
       "      <td>BOM</td>\n",
       "      <td>27</td>\n",
       "      <td>2.172603</td>\n",
       "      <td>5.843836</td>\n",
       "    </tr>\n",
       "    <tr>\n",
       "      <th>4</th>\n",
       "      <td>1</td>\n",
       "      <td>2008-11-17</td>\n",
       "      <td>2010-12-10</td>\n",
       "      <td>2014-01-14</td>\n",
       "      <td>46</td>\n",
       "      <td>80.434783</td>\n",
       "      <td>15.217391</td>\n",
       "      <td>175.10</td>\n",
       "      <td>0.141176</td>\n",
       "      <td>1</td>\n",
       "      <td>1</td>\n",
       "      <td>0</td>\n",
       "      <td>Wednesday</td>\n",
       "      <td>DEL</td>\n",
       "      <td>38</td>\n",
       "      <td>5.161644</td>\n",
       "      <td>4.882192</td>\n",
       "    </tr>\n",
       "  </tbody>\n",
       "</table>\n",
       "</div>"
      ],
      "text/plain": [
       "   retained     created  firstorder   lastorder  esent   eopenrate  \\\n",
       "0         0  2012-09-28  2013-11-08  2013-11-08     29  100.000000   \n",
       "1         1  2010-12-19  2011-01-04  2014-01-19     95   92.631579   \n",
       "2         0  2010-10-22  2011-03-28  2011-03-28      0    0.000000   \n",
       "3         1  2010-11-27  2010-11-29  2013-01-28     30   90.000000   \n",
       "4         1  2008-11-17  2010-12-10  2014-01-14     46   80.434783   \n",
       "\n",
       "   eclickrate  avgorder   ordfreq  paperless  refill  doorstep     favday  \\\n",
       "0    3.448276     14.52  0.000000          0       0         0     Monday   \n",
       "1   10.526316     83.69  0.181641          1       1         1     Friday   \n",
       "2    0.000000     54.96  0.000000          0       0         0   Thursday   \n",
       "3   13.333333    111.91  0.008850          0       0         0     Monday   \n",
       "4   15.217391    175.10  0.141176          1       1         0  Wednesday   \n",
       "\n",
       "  city  eopen    tenure   recency  \n",
       "0  DEL     29  1.112329  5.065753  \n",
       "1  DEL     89  3.087671  4.868493  \n",
       "2  BOM      0  0.430137  7.684932  \n",
       "3  BOM     27  2.172603  5.843836  \n",
       "4  DEL     38  5.161644  4.882192  "
      ]
     },
     "execution_count": 2,
     "metadata": {},
     "output_type": "execute_result"
    }
   ],
   "source": [
    "df = pd.read_csv(r'E:\\Capstone-Project-main\\Capstone-Project-main\\Rishal\\clean_data.csv')\n",
    "df.head()"
   ]
  },
  {
   "cell_type": "code",
   "execution_count": 3,
   "id": "3174b8bb",
   "metadata": {},
   "outputs": [],
   "source": [
    "df['created'] = df['created'].apply(lambda x: pd.to_datetime(str(x)))\n",
    "df['firstorder'] = df['firstorder'].apply(lambda x: pd.to_datetime(str(x)))\n",
    "df['lastorder'] = df['lastorder'].apply(lambda x: pd.to_datetime(str(x)))"
   ]
  },
  {
   "cell_type": "code",
   "execution_count": 4,
   "id": "8840cb7d",
   "metadata": {},
   "outputs": [
    {
     "data": {
      "text/plain": [
       "retained               int64\n",
       "created       datetime64[ns]\n",
       "firstorder    datetime64[ns]\n",
       "lastorder     datetime64[ns]\n",
       "esent                  int64\n",
       "eopenrate            float64\n",
       "eclickrate           float64\n",
       "avgorder             float64\n",
       "ordfreq              float64\n",
       "paperless              int64\n",
       "refill                 int64\n",
       "doorstep               int64\n",
       "favday                object\n",
       "city                  object\n",
       "eopen                  int64\n",
       "tenure               float64\n",
       "recency              float64\n",
       "dtype: object"
      ]
     },
     "execution_count": 4,
     "metadata": {},
     "output_type": "execute_result"
    }
   ],
   "source": [
    "df.dtypes"
   ]
  },
  {
   "cell_type": "code",
   "execution_count": 5,
   "id": "2fc1fa8c",
   "metadata": {},
   "outputs": [],
   "source": [
    "df1=df.copy()"
   ]
  },
  {
   "cell_type": "markdown",
   "id": "b8051d0c",
   "metadata": {},
   "source": [
    "# Statistical tests"
   ]
  },
  {
   "cell_type": "code",
   "execution_count": 6,
   "id": "d44f65f6",
   "metadata": {},
   "outputs": [],
   "source": [
    "from scipy.stats import ttest_ind,chisquare,chi2_contingency,shapiro,mannwhitneyu,wilcoxon\n",
    "from warnings import filterwarnings\n",
    "filterwarnings('ignore')\n",
    "from statsmodels.stats.proportion import proportions_ztest"
   ]
  },
  {
   "cell_type": "code",
   "execution_count": 7,
   "id": "899fd897",
   "metadata": {},
   "outputs": [
    {
     "data": {
      "text/plain": [
       "Ttest_indResult(statistic=-157.1907351729261, pvalue=0.0)"
      ]
     },
     "execution_count": 7,
     "metadata": {},
     "output_type": "execute_result"
    }
   ],
   "source": [
    "#esent\n",
    "samp1 = df1[df1['retained']==0]['esent']\n",
    "samp2 = df1[df1['retained']==1]['esent']\n",
    "ttest_ind(samp1,samp2) "
   ]
  },
  {
   "cell_type": "code",
   "execution_count": 8,
   "id": "5da933b2",
   "metadata": {},
   "outputs": [
    {
     "data": {
      "text/plain": [
       "Ttest_indResult(statistic=-9.981674022312102, pvalue=2.0253735862715588e-23)"
      ]
     },
     "execution_count": 8,
     "metadata": {},
     "output_type": "execute_result"
    }
   ],
   "source": [
    "#eopenrate\n",
    "samp1 = df1[df1['retained']==0]['eopenrate']\n",
    "samp2 = df1[df1['retained']==1]['eopenrate']\n",
    "ttest_ind(samp1,samp2)"
   ]
  },
  {
   "cell_type": "code",
   "execution_count": 9,
   "id": "2d2978f3",
   "metadata": {},
   "outputs": [
    {
     "data": {
      "text/plain": [
       "Ttest_indResult(statistic=-7.052665816673395, pvalue=1.8002408389041709e-12)"
      ]
     },
     "execution_count": 9,
     "metadata": {},
     "output_type": "execute_result"
    }
   ],
   "source": [
    "#eclickrate\n",
    "samp1 = df1[df1['retained']==0]['eclickrate']\n",
    "samp2 = df1[df1['retained']==1]['eclickrate']\n",
    "ttest_ind(samp1,samp2)"
   ]
  },
  {
   "cell_type": "code",
   "execution_count": 10,
   "id": "2634f03e",
   "metadata": {},
   "outputs": [],
   "source": [
    "cat_cols = ['paperless','refill','doorstep','favday','city']\n",
    "num_cols = ['esent','eopen','eopenrate','eclickrate','avgorder','ordfreq','tenure','recency']"
   ]
  },
  {
   "cell_type": "code",
   "execution_count": 11,
   "id": "068f1723",
   "metadata": {},
   "outputs": [
    {
     "name": "stdout",
     "output_type": "stream",
     "text": [
      "esent : 0.0\n",
      "Data is not normal \n",
      "\n",
      "eopen : 0.0\n",
      "Data is not normal \n",
      "\n",
      "eopenrate : 0.0\n",
      "Data is not normal \n",
      "\n",
      "eclickrate : 0.0\n",
      "Data is not normal \n",
      "\n",
      "avgorder : 0.0\n",
      "Data is not normal \n",
      "\n",
      "ordfreq : 0.0\n",
      "Data is not normal \n",
      "\n",
      "tenure : 0.0\n",
      "Data is not normal \n",
      "\n",
      "recency : 0.0\n",
      "Data is not normal \n",
      "\n"
     ]
    }
   ],
   "source": [
    "# Shapiro test for numerical test\n",
    "H0 = 'Data is normal'\n",
    "Ha = \"Data is not normal\"\n",
    "normal = []\n",
    "for cols in num_cols:\n",
    "    pval = shapiro(df[cols])[1]\n",
    "    print(cols,':',pval)\n",
    "    if pval < 0.05:\n",
    "        print(Ha,'\\n')\n",
    "    else:\n",
    "        print(Ho,'\\n')\n",
    "        normal.append(cols)"
   ]
  },
  {
   "cell_type": "markdown",
   "id": "54823417",
   "metadata": {},
   "source": [
    "### Since data is not normal we are going to use mannwhitneyu statistical test"
   ]
  },
  {
   "cell_type": "code",
   "execution_count": 12,
   "id": "f2d657da",
   "metadata": {},
   "outputs": [
    {
     "name": "stdout",
     "output_type": "stream",
     "text": [
      "esent\n",
      "p-val = 0.0\n",
      "\"esent\" has some effect on target variable \"Retained\" \n",
      "\n",
      "eopen\n",
      "p-val = 0.0\n",
      "\"eopen\" has some effect on target variable \"Retained\" \n",
      "\n",
      "eopenrate\n",
      "p-val = 2.3859610254464484e-248\n",
      "\"eopenrate\" has some effect on target variable \"Retained\" \n",
      "\n",
      "eclickrate\n",
      "p-val = 0.0\n",
      "\"eclickrate\" has some effect on target variable \"Retained\" \n",
      "\n",
      "avgorder\n",
      "\"avgorder\" doesnot have any effect on target variable \"Retained\" \n",
      "\n",
      "ordfreq\n",
      "p-val = 2.7892428883179996e-07\n",
      "\"ordfreq\" has some effect on target variable \"Retained\" \n",
      "\n",
      "tenure\n",
      "\"tenure\" doesnot have any effect on target variable \"Retained\" \n",
      "\n",
      "recency\n",
      "p-val = 5.237695566591219e-204\n",
      "\"recency\" has some effect on target variable \"Retained\" \n",
      "\n"
     ]
    }
   ],
   "source": [
    "#Ho:Independent feature doesnot have any effect on target variable\n",
    "#Ha:Independent feature has some effect on target variable\n",
    "\n",
    "significant_var=[]\n",
    "for cols in num_cols:\n",
    "    samp1 = df1[df1['retained']==0][cols]\n",
    "    samp2 = df1[df1['retained']==1][cols]\n",
    "    print(cols)    \n",
    "    stat,pval = mannwhitneyu(samp1,samp2)\n",
    "    Ho = f'\"{cols}\" doesnot have any effect on target variable \"Retained\"'\n",
    "    Ha = f'\"{cols}\" has some effect on target variable \"Retained\"'\n",
    "    \n",
    "    if pval < 0.05:\n",
    "        print(f'p-val = {pval}')\n",
    "        print(Ha,'\\n')\n",
    "        significant_var.append(cols)\n",
    "    else:\n",
    "        print(Ho,'\\n')"
   ]
  },
  {
   "cell_type": "code",
   "execution_count": 13,
   "id": "24f6646b",
   "metadata": {},
   "outputs": [
    {
     "data": {
      "text/plain": [
       "['esent', 'eopen', 'eopenrate', 'eclickrate', 'ordfreq', 'recency']"
      ]
     },
     "execution_count": 13,
     "metadata": {},
     "output_type": "execute_result"
    }
   ],
   "source": [
    "significant_var"
   ]
  },
  {
   "cell_type": "code",
   "execution_count": 15,
   "id": "fdd42a7b",
   "metadata": {},
   "outputs": [
    {
     "data": {
      "text/html": [
       "<div>\n",
       "<style scoped>\n",
       "    .dataframe tbody tr th:only-of-type {\n",
       "        vertical-align: middle;\n",
       "    }\n",
       "\n",
       "    .dataframe tbody tr th {\n",
       "        vertical-align: top;\n",
       "    }\n",
       "\n",
       "    .dataframe thead th {\n",
       "        text-align: right;\n",
       "    }\n",
       "</style>\n",
       "<table border=\"1\" class=\"dataframe\">\n",
       "  <thead>\n",
       "    <tr style=\"text-align: right;\">\n",
       "      <th>retained</th>\n",
       "      <th>0</th>\n",
       "      <th>1</th>\n",
       "    </tr>\n",
       "    <tr>\n",
       "      <th>paperless</th>\n",
       "      <th></th>\n",
       "      <th></th>\n",
       "    </tr>\n",
       "  </thead>\n",
       "  <tbody>\n",
       "    <tr>\n",
       "      <th>0</th>\n",
       "      <td>2581</td>\n",
       "      <td>5913</td>\n",
       "    </tr>\n",
       "    <tr>\n",
       "      <th>1</th>\n",
       "      <td>2527</td>\n",
       "      <td>14344</td>\n",
       "    </tr>\n",
       "  </tbody>\n",
       "</table>\n",
       "</div>"
      ],
      "text/plain": [
       "retained      0      1\n",
       "paperless             \n",
       "0          2581   5913\n",
       "1          2527  14344"
      ]
     },
     "execution_count": 15,
     "metadata": {},
     "output_type": "execute_result"
    }
   ],
   "source": [
    "samp = pd.crosstab(df1['paperless'],df1['retained'])\n",
    "samp"
   ]
  },
  {
   "cell_type": "code",
   "execution_count": 16,
   "id": "a2f4161e",
   "metadata": {},
   "outputs": [
    {
     "data": {
      "text/plain": [
       "paperless\n",
       "0     8494\n",
       "1    16871\n",
       "dtype: int64"
      ]
     },
     "execution_count": 16,
     "metadata": {},
     "output_type": "execute_result"
    }
   ],
   "source": [
    "samp.sum(axis=1)"
   ]
  },
  {
   "cell_type": "code",
   "execution_count": 17,
   "id": "02607a42",
   "metadata": {},
   "outputs": [
    {
     "data": {
      "text/plain": [
       "(28.878279001204877, 2.2378070185611648e-183)"
      ]
     },
     "execution_count": 17,
     "metadata": {},
     "output_type": "execute_result"
    }
   ],
   "source": [
    "# retained =1 if customer is retained\n",
    "# retained =0 if customer is not retained\n",
    "#Ho:proportion(CustomerChurned 0 who didnot choose paperless communication 0) = proportion(CustomerChurned 0 who choose paperless communication 1)\n",
    "#Ha:proportion(CustomerChurned 0 who didnot choose paperless communication 0) != proportion(CustomerChurned 0 who choose paperless communication 1)\n",
    "\n",
    "proportions_ztest([samp[0][0],samp[0][1]],list(samp.sum(axis=1)))"
   ]
  },
  {
   "cell_type": "code",
   "execution_count": 18,
   "id": "21c8ac82",
   "metadata": {},
   "outputs": [
    {
     "data": {
      "text/plain": [
       "(-28.878279001204888, 2.237807018560528e-183)"
      ]
     },
     "execution_count": 18,
     "metadata": {},
     "output_type": "execute_result"
    }
   ],
   "source": [
    "proportions_ztest([samp[1][0],samp[1][1]],list(samp.sum(axis=1)))"
   ]
  },
  {
   "cell_type": "code",
   "execution_count": 19,
   "id": "aa6814d4",
   "metadata": {},
   "outputs": [
    {
     "name": "stdout",
     "output_type": "stream",
     "text": [
      "paperless\n",
      "2\n",
      "\n",
      "\n",
      "refill\n",
      "2\n",
      "\n",
      "\n",
      "doorstep\n",
      "2\n",
      "\n",
      "\n",
      "favday\n",
      "7\n",
      "\n",
      "\n",
      "city\n",
      "4\n",
      "\n",
      "\n"
     ]
    }
   ],
   "source": [
    "for cols in cat_cols:\n",
    "    print(cols)\n",
    "    print(len(df1[cols].unique()))\n",
    "    print('\\n')"
   ]
  },
  {
   "cell_type": "code",
   "execution_count": 20,
   "id": "bdd56910",
   "metadata": {},
   "outputs": [
    {
     "name": "stdout",
     "output_type": "stream",
     "text": [
      "Column Name: paperless\n",
      "\n",
      "\n",
      "retained      0      1\n",
      "paperless             \n",
      "0          2581   5913\n",
      "1          2527  14344\n",
      "\n",
      "\n",
      "p-val = 2.2378070185611648e-183\n",
      "\"paperless\" has some effect on target variable \"Retained\" \n",
      "\n",
      "Column Name: refill\n",
      "\n",
      "\n",
      "retained     0      1\n",
      "refill               \n",
      "0         4924  17939\n",
      "1          184   2318\n",
      "\n",
      "\n",
      "p-val = 2.657417128645621e-63\n",
      "\"refill\" has some effect on target variable \"Retained\" \n",
      "\n",
      "Column Name: doorstep\n",
      "\n",
      "\n",
      "retained     0      1\n",
      "doorstep             \n",
      "0         5045  19363\n",
      "1           63    894\n",
      "\n",
      "\n",
      "p-val = 1.5789618377712446e-26\n",
      "\"doorstep\" has some effect on target variable \"Retained\" \n",
      "\n",
      "Column Name: favday\n",
      "\n",
      "\n",
      "retained      0     1\n",
      "favday               \n",
      "Friday      880  3623\n",
      "Monday     1036  4638\n",
      "Saturday    161   883\n",
      "Sunday       72   132\n",
      "Thursday    882  3406\n",
      "Tuesday    1190  4452\n",
      "Wednesday   887  3123\n",
      "\n",
      "\n",
      "p-val = 3.214139452870288e-13\n",
      "\"favday\" has some effect on target variable \"Retained\" \n",
      "\n",
      "Column Name: city\n",
      "\n",
      "\n",
      "retained     0     1\n",
      "city                \n",
      "BLR        164  1199\n",
      "BOM       1963  7775\n",
      "DEL       1929  5442\n",
      "MAA       1052  5841\n",
      "\n",
      "\n",
      "p-val = 5.308097236514491e-70\n",
      "\"city\" has some effect on target variable \"Retained\" \n",
      "\n"
     ]
    }
   ],
   "source": [
    "sig_cat_cols = []\n",
    "for cols in cat_cols:\n",
    "    print('Column Name:',cols)\n",
    "    print('\\n')\n",
    "    samp = pd.crosstab(df1[cols],df1['retained'])\n",
    "    print(samp)\n",
    "    print('\\n')\n",
    "    len_unique = len(df1[cols].unique())\n",
    "    if len_unique==2:\n",
    "        stat,pval = proportions_ztest([samp[0][0],samp[0][1]],list(samp.sum(axis=1)))\n",
    "    else:\n",
    "        pval = chi2_contingency(pd.crosstab(df1['retained'],df1[cols]))[1]\n",
    "    Ho = f'\"{cols}\" doesnot have any effect on target variable \"Retained\"'\n",
    "    Ha = f'\"{cols}\" has some effect on target variable \"Retained\"'\n",
    "    if pval < 0.05:\n",
    "        print(f'p-val = {pval}')\n",
    "        print(Ha,'\\n')\n",
    "        sig_cat_cols.append(cols)\n",
    "    else:\n",
    "        print(Ho,'\\n')"
   ]
  },
  {
   "cell_type": "code",
   "execution_count": 21,
   "id": "692bf144",
   "metadata": {},
   "outputs": [],
   "source": [
    "arr=np.array([[1, 2], [3, 4]])"
   ]
  },
  {
   "cell_type": "code",
   "execution_count": 22,
   "id": "be51514a",
   "metadata": {},
   "outputs": [
    {
     "data": {
      "text/html": [
       "<div>\n",
       "<style scoped>\n",
       "    .dataframe tbody tr th:only-of-type {\n",
       "        vertical-align: middle;\n",
       "    }\n",
       "\n",
       "    .dataframe tbody tr th {\n",
       "        vertical-align: top;\n",
       "    }\n",
       "\n",
       "    .dataframe thead th {\n",
       "        text-align: right;\n",
       "    }\n",
       "</style>\n",
       "<table border=\"1\" class=\"dataframe\">\n",
       "  <thead>\n",
       "    <tr style=\"text-align: right;\">\n",
       "      <th></th>\n",
       "      <th>Features</th>\n",
       "      <th>VIF_values</th>\n",
       "    </tr>\n",
       "  </thead>\n",
       "  <tbody>\n",
       "    <tr>\n",
       "      <th>2</th>\n",
       "      <td>eopenrate</td>\n",
       "      <td>4.677044</td>\n",
       "    </tr>\n",
       "    <tr>\n",
       "      <th>1</th>\n",
       "      <td>eopen</td>\n",
       "      <td>4.400386</td>\n",
       "    </tr>\n",
       "    <tr>\n",
       "      <th>0</th>\n",
       "      <td>esent</td>\n",
       "      <td>4.224020</td>\n",
       "    </tr>\n",
       "    <tr>\n",
       "      <th>7</th>\n",
       "      <td>recency</td>\n",
       "      <td>3.704931</td>\n",
       "    </tr>\n",
       "    <tr>\n",
       "      <th>4</th>\n",
       "      <td>avgorder</td>\n",
       "      <td>3.433024</td>\n",
       "    </tr>\n",
       "    <tr>\n",
       "      <th>3</th>\n",
       "      <td>eclickrate</td>\n",
       "      <td>1.875361</td>\n",
       "    </tr>\n",
       "    <tr>\n",
       "      <th>6</th>\n",
       "      <td>tenure</td>\n",
       "      <td>1.496411</td>\n",
       "    </tr>\n",
       "    <tr>\n",
       "      <th>5</th>\n",
       "      <td>ordfreq</td>\n",
       "      <td>1.113011</td>\n",
       "    </tr>\n",
       "  </tbody>\n",
       "</table>\n",
       "</div>"
      ],
      "text/plain": [
       "     Features  VIF_values\n",
       "2   eopenrate    4.677044\n",
       "1       eopen    4.400386\n",
       "0       esent    4.224020\n",
       "7     recency    3.704931\n",
       "4    avgorder    3.433024\n",
       "3  eclickrate    1.875361\n",
       "6      tenure    1.496411\n",
       "5     ordfreq    1.113011"
      ]
     },
     "execution_count": 22,
     "metadata": {},
     "output_type": "execute_result"
    }
   ],
   "source": [
    "from statsmodels.stats.outliers_influence import variance_inflation_factor\n",
    "\n",
    "\n",
    "vif=pd.DataFrame()\n",
    "vif['Features']=num_cols\n",
    "vif['VIF_values'] = [variance_inflation_factor(df1[num_cols].values,i) for i in range(df1[num_cols].shape[1])]\n",
    "vif.sort_values('VIF_values',ascending=False)"
   ]
  },
  {
   "cell_type": "code",
   "execution_count": null,
   "id": "f9d4fb22",
   "metadata": {},
   "outputs": [],
   "source": []
  }
 ],
 "metadata": {
  "kernelspec": {
   "display_name": "Python 3",
   "language": "python",
   "name": "python3"
  },
  "language_info": {
   "codemirror_mode": {
    "name": "ipython",
    "version": 3
   },
   "file_extension": ".py",
   "mimetype": "text/x-python",
   "name": "python",
   "nbconvert_exporter": "python",
   "pygments_lexer": "ipython3",
   "version": "3.8.8"
  }
 },
 "nbformat": 4,
 "nbformat_minor": 5
}
